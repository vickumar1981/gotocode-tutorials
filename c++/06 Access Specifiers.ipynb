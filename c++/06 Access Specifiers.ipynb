{
 "cells": [
  {
   "cell_type": "markdown",
   "metadata": {},
   "source": [
    "![](https://gotocode.io/static/assets/img/logo.jpg)"
   ]
  },
  {
   "cell_type": "markdown",
   "metadata": {},
   "source": [
    "# Access Specifiers #"
   ]
  },
  {
   "cell_type": "markdown",
   "metadata": {},
   "source": [
    "By now, you are quite familiar with the **public** keyword that appears in all of our class examples:"
   ]
  },
  {
   "cell_type": "markdown",
   "metadata": {},
   "source": [
    "**Example**"
   ]
  },
  {
   "cell_type": "raw",
   "metadata": {},
   "source": [
    "class MyClass {  // The class\n",
    "  public:        // Access specifier\n",
    "    // class members goes here\n",
    "};"
   ]
  },
  {
   "cell_type": "markdown",
   "metadata": {},
   "source": [
    "The public keyword is an access specifier. Access specifiers define how the members (attributes and methods) of a class can be accessed. In the example above, the members are public - which means that they can be accessed and modified from outside the code.\n",
    "\n",
    "However, what if we want members to be private and hidden from the outside world?\n",
    "\n",
    "In C++, there are three access specifiers:"
   ]
  },
  {
   "cell_type": "markdown",
   "metadata": {},
   "source": [
    " - **public -** members are accessible from outside the class\n",
    " \n",
    " - **private -** members cannot be accessed (or viewed) from outside the class\n",
    " \n",
    " - **protected -** members cannot be accessed from outside the class, however, they can be accessed in inherited classes. You will learn more about Inheritance later."
   ]
  },
  {
   "cell_type": "markdown",
   "metadata": {},
   "source": [
    "In the following example, we demonstrate the differences between public and private members:"
   ]
  },
  {
   "cell_type": "markdown",
   "metadata": {},
   "source": [
    "**Example**"
   ]
  },
  {
   "cell_type": "raw",
   "metadata": {},
   "source": [
    "  public:    // Public access specifier\n",
    "    int x;   // Public attribute\n",
    "  private:   // Private access specifier\n",
    "    int y;   // Private attribute\n",
    "};\n",
    "\n",
    "int main() {\n",
    "  MyClass myObj;\n",
    "  myObj.x = 25;  // Allowed (public)\n",
    "  myObj.y = 50;  // Not allowed (private)\n",
    "  return 0;\n",
    "}"
   ]
  },
  {
   "cell_type": "markdown",
   "metadata": {},
   "source": [
    "If you try to access a private member, an error occurs:"
   ]
  },
  {
   "cell_type": "raw",
   "metadata": {},
   "source": [
    "error: y is private"
   ]
  },
  {
   "cell_type": "markdown",
   "metadata": {},
   "source": [
    "**Note:** By default, all members of a class are private if you don't specify an access specifier:"
   ]
  },
  {
   "cell_type": "raw",
   "metadata": {},
   "source": [
    "class MyClass {\n",
    "  int x;   // Private attribute\n",
    "  int y;   // Private attribute\n",
    "};"
   ]
  }
 ],
 "metadata": {
  "kernelspec": {
   "display_name": "C++17",
   "language": "C++17",
   "name": "xcpp17"
  },
  "language_info": {
   "codemirror_mode": "text/x-c++src",
   "file_extension": ".cpp",
   "mimetype": "text/x-c++src",
   "name": "c++",
   "version": "17"
  }
 },
 "nbformat": 4,
 "nbformat_minor": 4
}
