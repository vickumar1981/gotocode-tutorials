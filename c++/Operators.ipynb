{
 "cells": [
  {
   "cell_type": "markdown",
   "metadata": {},
   "source": [
    "# Operators #"
   ]
  },
  {
   "cell_type": "markdown",
   "metadata": {},
   "source": [
    "Operators are used to perform operations on variables and values.\n",
    "\n",
    "In the example below, we use the + operator to add together two values:"
   ]
  },
  {
   "cell_type": "raw",
   "metadata": {},
   "source": [
    "int x = 100 + 50;"
   ]
  },
  {
   "cell_type": "markdown",
   "metadata": {},
   "source": [
    "Although the + operator is often used to add together two values, like in the example above, it can also be used to add together a variable and a value, or a variable and another variable:"
   ]
  },
  {
   "cell_type": "raw",
   "metadata": {},
   "source": [
    "int sum1 = 100 + 50;        // 150 (100 + 50)\n",
    "int sum2 = sum1 + 250;      // 400 (150 + 250)\n",
    "int sum3 = sum2 + sum2;     // 800 (400 + 400)"
   ]
  },
  {
   "cell_type": "markdown",
   "metadata": {},
   "source": [
    "C++ divides the operators into the following groups:\n",
    "\n",
    "- **Arithmetic operators**\n",
    "- **Assignment operators**\n",
    "- **Comparison operators**\n",
    "- **Logical operators**\n",
    "- **Bitwise operators**"
   ]
  },
  {
   "cell_type": "markdown",
   "metadata": {},
   "source": []
  },
  {
   "cell_type": "code",
   "execution_count": null,
   "metadata": {},
   "outputs": [],
   "source": []
  }
 ],
 "metadata": {
  "kernelspec": {
   "display_name": "C++17",
   "language": "C++17",
   "name": "xcpp17"
  },
  "language_info": {
   "codemirror_mode": "text/x-c++src",
   "file_extension": ".cpp",
   "mimetype": "text/x-c++src",
   "name": "c++",
   "version": "17"
  }
 },
 "nbformat": 4,
 "nbformat_minor": 4
}
