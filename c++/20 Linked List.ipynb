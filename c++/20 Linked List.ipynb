{
 "cells": [
  {
   "cell_type": "markdown",
   "metadata": {},
   "source": [
    "![](https://gotocode.io/static/assets/img/logo.jpg)"
   ]
  },
  {
   "cell_type": "markdown",
   "metadata": {},
   "source": [
    "# Linked List #"
   ]
  },
  {
   "cell_type": "markdown",
   "metadata": {},
   "source": [
    "Like arrays, Linked List is a linear data structure. Unlike arrays, linked list elements are not stored at a contiguous location; the elements are linked using pointers."
   ]
  },
  {
   "cell_type": "markdown",
   "metadata": {},
   "source": [
    "![image](https://media.geeksforgeeks.org/wp-content/cdn-uploads/gq/2013/03/Linkedlist.png)"
   ]
  },
  {
   "cell_type": "markdown",
   "metadata": {},
   "source": [
    "### Why Linked List? ###"
   ]
  },
  {
   "cell_type": "markdown",
   "metadata": {},
   "source": [
    "Arrays can be used to store linear data of similar types, but arrays have the following limitations.\n",
    "\n",
    "**1)** The size of the arrays is fixed: So we must know the upper limit on the number of elements in advance. Also, generally, the allocated memory is equal to the upper limit irrespective of the usage.\n",
    "\n",
    "**2)** Inserting a new element in an array of elements is expensive because the room has to be created for the new elements and to create room existing elements have to be shifted.\n",
    "\n",
    "For example, in a system, if we maintain a sorted list of IDs in an array id[].\n",
    "\n",
    "id[] = [1000, 1010, 1050, 2000, 2040]."
   ]
  },
  {
   "cell_type": "markdown",
   "metadata": {},
   "source": [
    "And if we want to insert a new ID 1005, then to maintain the sorted order, we have to move all the elements after 1000 (excluding 1000).\n",
    "Deletion is also expensive with arrays until unless some special techniques are used. For example, to delete 1010 in id[], everything after 1010 has to be moved."
   ]
  },
  {
   "cell_type": "markdown",
   "metadata": {},
   "source": [
    "### Advantages over arrays ###"
   ]
  },
  {
   "cell_type": "markdown",
   "metadata": {},
   "source": [
    "**1)** Dynamic size\n",
    "\n",
    "**2)** Ease of insertion/deletion"
   ]
  },
  {
   "cell_type": "markdown",
   "metadata": {},
   "source": [
    "### Drawbacks: ###"
   ]
  },
  {
   "cell_type": "markdown",
   "metadata": {},
   "source": [
    "**1.** Random access is not allowed. We have to access elements sequentially starting from the first node. So we cannot do binary search with linked lists efficiently with its default implementation."
   ]
  },
  {
   "cell_type": "markdown",
   "metadata": {},
   "source": [
    "**2.** Extra memory space for a pointer is required with each element of the list.\n",
    "\n",
    "**3.** Not cache friendly. Since array elements are contiguous locations, there is locality of reference which is not there in case of linked lists."
   ]
  },
  {
   "cell_type": "raw",
   "metadata": {},
   "source": [
    "class Node { \n",
    "public: \n",
    "    int data; \n",
    "    Node* next; \n",
    "}; "
   ]
  },
  {
   "cell_type": "markdown",
   "metadata": {},
   "source": [
    " **First Simple Linked List in C++**  Let us create a simple linked list with 3 nodes"
   ]
  },
  {
   "cell_type": "markdown",
   "metadata": {},
   "source": [
    "// A simple CPP program to introduce \n",
    "// a linked list \n",
    "#include <bits/stdc++.h> \n",
    "using namespace std; \n",
    "  \n",
    "class Node { \n",
    "public: \n",
    "    int data; \n",
    "    Node* next; \n",
    "}; \n",
    "  \n",
    "// Program to create a simple linked \n",
    "// list with 3 nodes \n",
    "int main() \n",
    "{ \n",
    "    Node* head = NULL; \n",
    "    Node* second = NULL; \n",
    "    Node* third = NULL; \n",
    "  \n",
    "    // allocate 3 nodes in the heap \n",
    "    head = new Node(); \n",
    "    second = new Node(); \n",
    "    third = new Node(); \n",
    "  \n",
    "    /* Three blocks have been allocated dynamically.  \n",
    "    We have pointers to these three blocks as head,  \n",
    "    second and third      \n",
    "    head         second         third  \n",
    "        |             |             |  \n",
    "        |             |             |  \n",
    "    +---+-----+     +----+----+     +----+----+  \n",
    "    | # | # |     | # | # |     | # | # |  \n",
    "    +---+-----+     +----+----+     +----+----+  \n",
    "      \n",
    "# represents any random value.  \n",
    "Data is random because we haven’t assigned  \n",
    "anything yet */\n",
    "  \n",
    "    head->data = 1; // assign data in first node \n",
    "    head->next = second; // Link first node with \n",
    "    // the second node \n",
    "  \n",
    "    /* data has been assigned to the data part of first  \n",
    "    block (block pointed by the head). And next  \n",
    "    pointer of the first block points to second.  \n",
    "    So they both are linked.  \n",
    "  \n",
    "    head         second         third  \n",
    "        |             |             |  \n",
    "        |             |             |  \n",
    "    +---+---+     +----+----+     +-----+----+  \n",
    "    | 1 | o----->| # | # |     | # | # |  \n",
    "    +---+---+     +----+----+     +-----+----+      \n",
    "*/\n",
    "  \n",
    "    // assign data to second node \n",
    "    second->data = 2; \n",
    "  \n",
    "    // Link second node with the third node \n",
    "    second->next = third; \n",
    "  \n",
    "    /* data has been assigned to the data part of the second  \n",
    "    block (block pointed by second). And next  \n",
    "    pointer of the second block points to the third  \n",
    "    block. So all three blocks are linked.  \n",
    "      \n",
    "    head         second         third  \n",
    "        |             |             |  \n",
    "        |             |             |  \n",
    "    +---+---+     +---+---+     +----+----+  \n",
    "    | 1 | o----->| 2 | o-----> | # | # |  \n",
    "    +---+---+     +---+---+     +----+----+     */\n",
    "  \n",
    "    third->data = 3; // assign data to third node \n",
    "    third->next = NULL; \n",
    "  \n",
    "    /* data has been assigned to the data part of the third  \n",
    "    block (block pointed by third). And next pointer  \n",
    "    of the third block is made NULL to indicate  \n",
    "    that the linked list is terminated here.  \n",
    "  \n",
    "    We have the linked list ready.  \n",
    "  \n",
    "        head      \n",
    "            |  \n",
    "            |  \n",
    "        +---+---+     +---+---+     +----+------+  \n",
    "        | 1 | o----->| 2 | o-----> | 3 | NULL |  \n",
    "        +---+---+     +---+---+     +----+------+      \n",
    "      \n",
    "      \n",
    "    Note that only the head is sufficient to represent  \n",
    "    the whole list. We can traverse the complete  \n",
    "    list by following the next pointers. */\n",
    "  \n",
    "    return 0; \n",
    "} "
   ]
  },
  {
   "cell_type": "markdown",
   "metadata": {},
   "source": [
    "**Output:**"
   ]
  },
  {
   "cell_type": "raw",
   "metadata": {},
   "source": [
    " 1  2  3"
   ]
  }
 ],
 "metadata": {
  "kernelspec": {
   "display_name": "C++17",
   "language": "C++17",
   "name": "xcpp17"
  },
  "language_info": {
   "codemirror_mode": "text/x-c++src",
   "file_extension": ".cpp",
   "mimetype": "text/x-c++src",
   "name": "c++",
   "version": "17"
  }
 },
 "nbformat": 4,
 "nbformat_minor": 4
}
