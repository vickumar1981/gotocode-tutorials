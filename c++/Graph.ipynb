{
 "cells": [
  {
   "cell_type": "markdown",
   "metadata": {},
   "source": [
    "# Graph #"
   ]
  },
  {
   "cell_type": "markdown",
   "metadata": {},
   "source": [
    "A Graph is a non-linear data structure consisting of nodes and edges. The nodes are sometimes also referred to as vertices and the edges are lines or arcs that connect any two nodes in the graph. More formally a Graph can be defined as,\n",
    "\n",
    "**A Graph consists of a finite set of vertices(or nodes) and set of Edges which connect a pair of nodes.**"
   ]
  },
  {
   "cell_type": "markdown",
   "metadata": {},
   "source": [
    "![image](https://www.geeksforgeeks.org/wp-content/uploads/undirectedgraph.png)"
   ]
  },
  {
   "cell_type": "markdown",
   "metadata": {},
   "source": [
    "In the above Graph, the set of vertices V = {0,1,2,3,4} and the set of edges E = {01, 12, 23, 34, 04, 14, 13}.\n",
    "\n",
    "Graphs are used to solve many real-life problems. Graphs are used to represent networks. The networks may include paths in a city or telephone network or circuit network. Graphs are also used in social networks like linkedIn, Facebook. For example, in Facebook, each person is represented with a vertex(or node). Each node is a structure and contains information like person id, name, gender, locale etc."
   ]
  },
  {
   "cell_type": "markdown",
   "metadata": {},
   "source": [
    "## Graph and its representations ##"
   ]
  },
  {
   "cell_type": "markdown",
   "metadata": {},
   "source": [
    "A graph is a data structure that consists of the following two components:\n",
    "\n",
    "**1.** A finite set of vertices also called as nodes.\n",
    "\n",
    "**2.** A finite set of ordered pair of the form (u, v) called as edge. The pair is ordered because (u, v) is not the same as (v, u) in case of a directed graph(di-graph). The pair of the form (u, v) indicates that there is an edge from vertex u to vertex v. The edges may contain weight/value/cost.\n",
    "\n",
    "Graphs are used to represent many real-life applications: Graphs are used to represent networks. The networks may include paths in a city or telephone network or circuit network. Graphs are also used in social networks like linkedIn, Facebook. For example, in Facebook, each person is represented with a vertex(or node). Each node is a structure and contains information like person id, name, gender, and locale."
   ]
  },
  {
   "cell_type": "markdown",
   "metadata": {},
   "source": [
    "Following is an example of an undirected graph with 5 vertices."
   ]
  },
  {
   "cell_type": "markdown",
   "metadata": {},
   "source": [
    "![image](https://cdncontribute.geeksforgeeks.org/wp-content/uploads/undirectedgraph.png)"
   ]
  },
  {
   "cell_type": "markdown",
   "metadata": {},
   "source": [
    "The following two are the most commonly used representations of a graph.\n",
    "\n",
    "**1.** Adjacency Matrix\n",
    "\n",
    "**2.** Adjacency List\n",
    "\n",
    "There are other representations also like, Incidence Matrix and Incidence List. The choice of graph representation is situation-specific. It totally depends on the type of operations to be performed and ease of use."
   ]
  },
  {
   "cell_type": "markdown",
   "metadata": {},
   "source": [
    "**Adjacency Matrix:**"
   ]
  },
  {
   "cell_type": "markdown",
   "metadata": {},
   "source": [
    "Adjacency Matrix is a 2D array of size V x V where V is the number of vertices in a graph. Let the 2D array be adj[][], a slot adj[i][j] = 1 indicates that there is an edge from vertex i to vertex j. Adjacency matrix for undirected graph is always symmetric. Adjacency Matrix is also used to represent weighted graphs. If adj[i][j] = w, then there is an edge from vertex i to vertex j with weight w."
   ]
  },
  {
   "cell_type": "markdown",
   "metadata": {},
   "source": [
    "The adjacency matrix for the above example graph is:"
   ]
  },
  {
   "cell_type": "markdown",
   "metadata": {},
   "source": [
    "![image](https://cdncontribute.geeksforgeeks.org/wp-content/uploads/adjacencymatrix.png)"
   ]
  },
  {
   "cell_type": "markdown",
   "metadata": {},
   "source": [
    "**Adjacency List:**"
   ]
  },
  {
   "cell_type": "markdown",
   "metadata": {},
   "source": [
    "An array of lists is used. The size of the array is equal to the number of vertices. Let the array be an array[]. An entry array[i] represents the list of vertices adjacent to the ith vertex. This representation can also be used to represent a weighted graph. The weights of edges can be represented as lists of pairs. Following is the adjacency list representation of the above graph."
   ]
  },
  {
   "cell_type": "markdown",
   "metadata": {},
   "source": [
    "![image](https://cdncontribute.geeksforgeeks.org/wp-content/uploads/listadjacency.png)"
   ]
  },
  {
   "cell_type": "markdown",
   "metadata": {},
   "source": [
    "Note that in the below implementation, we use dynamic arrays to represent adjacency lists instead of the linked list. The vector implementation has advantages of cache friendliness."
   ]
  },
  {
   "cell_type": "raw",
   "metadata": {},
   "source": [
    "// A simple representation of graph using STL \n",
    "#include<bits/stdc++.h> \n",
    "using namespace std; \n",
    "  \n",
    "// A utility function to add an edge in an \n",
    "// undirected graph. \n",
    "void addEdge(vector<int> adj[], int u, int v) \n",
    "{ \n",
    "    adj[u].push_back(v); \n",
    "    adj[v].push_back(u); \n",
    "} \n",
    "  \n",
    "// A utility function to print the adjacency list \n",
    "// representation of graph \n",
    "void printGraph(vector<int> adj[], int V) \n",
    "{ \n",
    "    for (int v = 0; v < V; ++v) \n",
    "    { \n",
    "        cout << \"\\n Adjacency list of vertex \"\n",
    "             << v << \"\\n head \"; \n",
    "        for (auto x : adj[v]) \n",
    "           cout << \"-> \" << x; \n",
    "        printf(\"\\n\"); \n",
    "    } \n",
    "} \n",
    "  \n",
    "// Driver code \n",
    "int main() \n",
    "{ \n",
    "    int V = 5; \n",
    "    vector<int> adj[V]; \n",
    "    addEdge(adj, 0, 1); \n",
    "    addEdge(adj, 0, 4); \n",
    "    addEdge(adj, 1, 2); \n",
    "    addEdge(adj, 1, 3); \n",
    "    addEdge(adj, 1, 4); \n",
    "    addEdge(adj, 2, 3); \n",
    "    addEdge(adj, 3, 4); \n",
    "    printGraph(adj, V); \n",
    "    return 0; \n",
    "} "
   ]
  },
  {
   "cell_type": "markdown",
   "metadata": {},
   "source": [
    "**Output:**"
   ]
  },
  {
   "cell_type": "raw",
   "metadata": {},
   "source": [
    "Adjacency list of vertex 0\n",
    " head -> 1-> 4\n",
    "\n",
    " Adjacency list of vertex 1\n",
    " head -> 0-> 2-> 3-> 4\n",
    "\n",
    " Adjacency list of vertex 2\n",
    " head -> 1-> 3\n",
    "\n",
    " Adjacency list of vertex 3\n",
    " head -> 1-> 2-> 4\n",
    "\n",
    " Adjacency list of vertex 4\n",
    " head -> 0-> 1-> 3"
   ]
  },
  {
   "cell_type": "code",
   "execution_count": null,
   "metadata": {},
   "outputs": [],
   "source": []
  }
 ],
 "metadata": {
  "kernelspec": {
   "display_name": "C++17",
   "language": "C++17",
   "name": "xcpp17"
  },
  "language_info": {
   "codemirror_mode": "text/x-c++src",
   "file_extension": ".cpp",
   "mimetype": "text/x-c++src",
   "name": "c++",
   "version": "17"
  }
 },
 "nbformat": 4,
 "nbformat_minor": 4
}
