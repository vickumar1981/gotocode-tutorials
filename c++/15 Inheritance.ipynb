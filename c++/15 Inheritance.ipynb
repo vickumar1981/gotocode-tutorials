{
 "cells": [
  {
   "cell_type": "markdown",
   "metadata": {},
   "source": [
    "![](https://gotocode.io/static/img/logo_collapsed.png)\n",
    "![](https://gotocode.io/static/img/logo.png)"
   ]
  },
  {
   "cell_type": "markdown",
   "metadata": {},
   "source": [
    "# Inheritance #"
   ]
  },
  {
   "cell_type": "markdown",
   "metadata": {},
   "source": [
    "In C++, it is possible to inherit attributes and methods from one class to another. We group the \"inheritance concept\" into two categories:\n",
    "\n",
    "- derived class (child) - the class that inherits from another class\n",
    "- base class (parent) - the class being inherited from\n",
    "To inherit from a class, use the : symbol.\n",
    "\n",
    "In the example below, the **Car** class (child) inherits the attributes and methods from the **Vehicle** class (parent):"
   ]
  },
  {
   "cell_type": "markdown",
   "metadata": {},
   "source": [
    "**Example**"
   ]
  },
  {
   "cell_type": "raw",
   "metadata": {},
   "source": [
    "// Base class\n",
    "class Vehicle {\n",
    "  public:\n",
    "    string brand = \"Ford\";\n",
    "    void honk() {\n",
    "      cout << \"Tuut, tuut! \\n\" ;\n",
    "    }\n",
    "};\n",
    "\n",
    "// Derived class\n",
    "class Car: public Vehicle {\n",
    "  public:\n",
    "    string model = \"Mustang\";\n",
    "};\n",
    "\n",
    "int main() {\n",
    "  Car myCar;\n",
    "  myCar.honk();\n",
    "  cout << myCar.brand + \" \" + myCar.model;\n",
    "  return 0;\n",
    "}"
   ]
  },
  {
   "cell_type": "markdown",
   "metadata": {},
   "source": [
    "# Multilevel Inheritance #"
   ]
  },
  {
   "cell_type": "markdown",
   "metadata": {},
   "source": [
    "A class can also be derived from one class, which is already derived from another class.\n",
    "\n",
    "In the following example, **MyGrandChild** is derived from class **MyChild** (which is derived from **MyClass**)."
   ]
  },
  {
   "cell_type": "markdown",
   "metadata": {},
   "source": [
    "**Example**"
   ]
  },
  {
   "cell_type": "code",
   "execution_count": 6,
   "metadata": {},
   "outputs": [],
   "source": [
    "// Base class (parent)\n",
    "#include<iostream>\n",
    "using namespace std;"
   ]
  },
  {
   "cell_type": "code",
   "execution_count": 7,
   "metadata": {},
   "outputs": [],
   "source": [
    "class MyClass {\n",
    "  public:\n",
    "    void myFunction() {\n",
    "      cout << \"Some content in parent class.\" ;\n",
    "    }\n",
    "};"
   ]
  },
  {
   "cell_type": "code",
   "execution_count": 8,
   "metadata": {},
   "outputs": [],
   "source": [
    "// Derived class (child)\n",
    "class MyChild: public MyClass {\n",
    "};"
   ]
  },
  {
   "cell_type": "code",
   "execution_count": 9,
   "metadata": {},
   "outputs": [],
   "source": [
    "// Derived class (grandchild)\n",
    "class MyGrandChild: public MyChild {\n",
    "};"
   ]
  },
  {
   "cell_type": "code",
   "execution_count": 10,
   "metadata": {},
   "outputs": [
    {
     "name": "stdout",
     "output_type": "stream",
     "text": [
      "Some content in parent class."
     ]
    }
   ],
   "source": [
    "int main() {\n",
    "  MyGrandChild myObj;\n",
    "  myObj.myFunction();\n",
    "  return 0;\n",
    "}\n",
    "main();"
   ]
  },
  {
   "cell_type": "markdown",
   "metadata": {},
   "source": [
    "# Multiple Inheritance #"
   ]
  },
  {
   "cell_type": "markdown",
   "metadata": {},
   "source": [
    "A class can also be derived from more than one base class, using a comma-separated list:"
   ]
  },
  {
   "cell_type": "markdown",
   "metadata": {},
   "source": [
    "**Example**"
   ]
  },
  {
   "cell_type": "code",
   "execution_count": 11,
   "metadata": {},
   "outputs": [],
   "source": [
    "// Base class\n",
    "#include<iostream>\n",
    "using namespace std;"
   ]
  },
  {
   "cell_type": "code",
   "execution_count": 12,
   "metadata": {},
   "outputs": [],
   "source": [
    "    class MyClass {\n",
    "  public:\n",
    "    void myFunction() {\n",
    "      cout << \"Some content in parent class.\\n\" ;\n",
    "    }\n",
    "};"
   ]
  },
  {
   "cell_type": "code",
   "execution_count": 13,
   "metadata": {},
   "outputs": [],
   "source": [
    "// Another base class\n",
    "class MyOtherClass {\n",
    "  public:\n",
    "    void myOtherFunction() {\n",
    "      cout << \"Some content in another class.\" ;\n",
    "    }\n",
    "};"
   ]
  },
  {
   "cell_type": "code",
   "execution_count": 14,
   "metadata": {},
   "outputs": [],
   "source": [
    "// Derived class\n",
    "class MyChildClass: public MyClass, public MyOtherClass {\n",
    "};"
   ]
  },
  {
   "cell_type": "code",
   "execution_count": 15,
   "metadata": {},
   "outputs": [
    {
     "name": "stdout",
     "output_type": "stream",
     "text": [
      "Some content in parent class.\n",
      "Some content in another class."
     ]
    }
   ],
   "source": [
    "int main() {\n",
    "  MyChildClass myObj;\n",
    "  myObj.myFunction();\n",
    "  myObj.myOtherFunction();\n",
    "  return 0;\n",
    "}\n",
    "main();"
   ]
  }
 ],
 "metadata": {
  "kernelspec": {
   "display_name": "C++17",
   "language": "C++17",
   "name": "xcpp17"
  },
  "language_info": {
   "codemirror_mode": "text/x-c++src",
   "file_extension": ".cpp",
   "mimetype": "text/x-c++src",
   "name": "c++",
   "version": "17"
  }
 },
 "nbformat": 4,
 "nbformat_minor": 4
}
