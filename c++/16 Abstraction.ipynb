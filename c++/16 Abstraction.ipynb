{
 "cells": [
  {
   "cell_type": "markdown",
   "metadata": {},
   "source": [
    "![](https://gotocode.io/static/assets/img/logo.jpg)"
   ]
  },
  {
   "cell_type": "markdown",
   "metadata": {},
   "source": [
    "# Abstraction #"
   ]
  },
  {
   "cell_type": "markdown",
   "metadata": {},
   "source": [
    "Data abstraction is one of the most essential and important feature of object oriented programming in C++. Abstraction means displaying only essential information and hiding the details. Data abstraction refers to providing only essential information about the data to the outside world, hiding the background details or implementation."
   ]
  },
  {
   "cell_type": "markdown",
   "metadata": {},
   "source": [
    "Consider a real life example of a man driving a car. The man only knows that pressing the accelerators will increase the speed of car or applying brakes will stop the car but he does not know about how on pressing accelerator the speed is actually increasing, he does not know about the inner mechanism of the car or the implementation of accelerator, brakes etc in the car. This is what abstraction is."
   ]
  },
  {
   "cell_type": "markdown",
   "metadata": {},
   "source": [
    "**Example**"
   ]
  },
  {
   "cell_type": "code",
   "execution_count": 7,
   "metadata": {},
   "outputs": [],
   "source": [
    "#include <iostream> \n",
    "using namespace std; "
   ]
  },
  {
   "cell_type": "code",
   "execution_count": 8,
   "metadata": {},
   "outputs": [],
   "source": [
    "  \n",
    "class implementAbstraction \n",
    "{ \n",
    "    private: \n",
    "        int a, b; \n",
    "  \n",
    "    public: \n",
    "      \n",
    "        // method to set values of  \n",
    "        // private members \n",
    "        void set(int x, int y) \n",
    "        { \n",
    "            a = x; \n",
    "            b = y; \n",
    "        } \n",
    "          \n",
    "        void display() \n",
    "        { \n",
    "            cout<<\"a = \" <<a << endl; \n",
    "            cout<<\"b = \" << b << endl; \n",
    "        } \n",
    "}; "
   ]
  },
  {
   "cell_type": "code",
   "execution_count": 9,
   "metadata": {},
   "outputs": [
    {
     "name": "stdout",
     "output_type": "stream",
     "text": [
      "a = 10\n",
      "b = 20\n"
     ]
    }
   ],
   "source": [
    "  \n",
    "int main()  \n",
    "{ \n",
    "    implementAbstraction obj; \n",
    "    obj.set(10, 20); \n",
    "    obj.display(); \n",
    "    return 0; \n",
    "} \n",
    "main();"
   ]
  },
  {
   "cell_type": "markdown",
   "metadata": {},
   "source": [
    "# Advantages of Data Abstraction: #"
   ]
  },
  {
   "cell_type": "markdown",
   "metadata": {},
   "source": [
    "- Helps the user to avoid writing the low level code\n",
    "- Avoids code duplication and increases reusability.\n",
    "- Can change internal implementation of class independently without affecting the user.\n",
    "- Helps to increase security of an application or program as only important details are provided to the user."
   ]
  }
 ],
 "metadata": {
  "kernelspec": {
   "display_name": "C++17",
   "language": "C++17",
   "name": "xcpp17"
  },
  "language_info": {
   "codemirror_mode": "text/x-c++src",
   "file_extension": ".cpp",
   "mimetype": "text/x-c++src",
   "name": "c++",
   "version": "17"
  }
 },
 "nbformat": 4,
 "nbformat_minor": 4
}
