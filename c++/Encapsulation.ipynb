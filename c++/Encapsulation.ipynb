{
 "cells": [
  {
   "cell_type": "markdown",
   "metadata": {},
   "source": [
    "# Encapsulation #"
   ]
  },
  {
   "cell_type": "markdown",
   "metadata": {},
   "source": [
    "The meaning of Encapsulation, is to make sure that \"sensitive\" data is hidden from users. To achieve this, you must declare class variables/attributes as private (cannot be accessed from outside the class). If you want others to read or modify the value of a private member, you can provide public get and set methods."
   ]
  },
  {
   "cell_type": "markdown",
   "metadata": {},
   "source": [
    "## Access Private Members ##"
   ]
  },
  {
   "cell_type": "markdown",
   "metadata": {},
   "source": [
    "To access a private attribute, use public \"get\" and \"set\" methods:"
   ]
  },
  {
   "cell_type": "markdown",
   "metadata": {},
   "source": [
    "**Example** "
   ]
  },
  {
   "cell_type": "markdown",
   "metadata": {},
   "source": [
    "#include <iostream>\n",
    "using namespace std;\n",
    "\n",
    "class Employee {\n",
    "  private:\n",
    "    // Private attribute\n",
    "    int salary;\n",
    "\n",
    "  public:\n",
    "    // Setter\n",
    "    void setSalary(int s) {\n",
    "      salary = s;\n",
    "    }\n",
    "    // Getter\n",
    "    int getSalary() {\n",
    "      return salary;\n",
    "    }\n",
    "};\n",
    "\n",
    "int main() {\n",
    "  Employee myObj;\n",
    "  myObj.setSalary(50000);\n",
    "  cout << myObj.getSalary();\n",
    "  return 0;\n",
    "}"
   ]
  },
  {
   "cell_type": "markdown",
   "metadata": {},
   "source": [
    "**Example explained**"
   ]
  },
  {
   "cell_type": "markdown",
   "metadata": {},
   "source": [
    "The salary attribute is private, which have restricted access.\n",
    "\n",
    "The public setSalary() method takes a parameter (s) and assigns it to the salary attribute (salary = s).\n",
    "\n",
    "The public getSalary() method returns the value of the private salary attribute.\n",
    "\n",
    "Inside main(), we create an object of the Employee class. Now we can use the setSalary() method to set the value of the private attribute to 50000. Then we call the getSalary() method on the object to return the value."
   ]
  },
  {
   "cell_type": "markdown",
   "metadata": {},
   "source": [
    "## Why Encapsulation? ##"
   ]
  },
  {
   "cell_type": "markdown",
   "metadata": {},
   "source": [
    "- It is considered good practice to declare your class attributes as private (as often as you can). Encapsulation ensures better control of your data, because you (or others) can change one part of the code without affecting other parts\n",
    "- Increased security of data"
   ]
  },
  {
   "cell_type": "code",
   "execution_count": null,
   "metadata": {},
   "outputs": [],
   "source": []
  }
 ],
 "metadata": {
  "kernelspec": {
   "display_name": "C++17",
   "language": "C++17",
   "name": "xcpp17"
  },
  "language_info": {
   "codemirror_mode": "text/x-c++src",
   "file_extension": ".cpp",
   "mimetype": "text/x-c++src",
   "name": "c++",
   "version": "17"
  }
 },
 "nbformat": 4,
 "nbformat_minor": 4
}
