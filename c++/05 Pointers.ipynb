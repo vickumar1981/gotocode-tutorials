{
 "cells": [
  {
   "cell_type": "markdown",
   "metadata": {},
   "source": [
    "![](https://gotocode.io/static/assets/img/logo.jpg)"
   ]
  },
  {
   "cell_type": "markdown",
   "metadata": {},
   "source": [
    "# Pointers #"
   ]
  },
  {
   "cell_type": "markdown",
   "metadata": {},
   "source": [
    "A pointer is a variable whose value is the address of another variable. Like any variable or constant, you must declare a pointer before you can work with it. The general form of a pointer variable declaration is −"
   ]
  },
  {
   "cell_type": "raw",
   "metadata": {},
   "source": [
    "type *var-name;"
   ]
  },
  {
   "cell_type": "markdown",
   "metadata": {},
   "source": [
    "Here, type is the pointer's base type; it must be a valid C++ type and var-name is the name of the pointer variable. The asterisk you used to declare a pointer is the same asterisk that you use for multiplication. However, in this statement the asterisk is being used to designate a variable as a pointer. Following are the valid pointer declaration −"
   ]
  },
  {
   "cell_type": "raw",
   "metadata": {},
   "source": [
    "int    *ip;    // pointer to an integer\n",
    "double *dp;    // pointer to a double\n",
    "float  *fp;    // pointer to a float\n",
    "char   *ch     // pointer to character"
   ]
  },
  {
   "cell_type": "markdown",
   "metadata": {},
   "source": [
    "The actual data type of the value of all pointers, whether integer, float, character, or otherwise, is the same, a long hexadecimal number that represents a memory address. The only difference between pointers of different data types is the data type of the variable or constant that the pointer points to."
   ]
  },
  {
   "cell_type": "markdown",
   "metadata": {},
   "source": [
    "## Using Pointers in C++ ##"
   ]
  },
  {
   "cell_type": "markdown",
   "metadata": {},
   "source": [
    "There are few important operations, which we will do with the pointers very frequently. (a) We define a pointer variable. (b) Assign the address of a variable to a pointer. (c) Finally access the value at the address available in the pointer variable. This is done by using unary operator * that returns the value of the variable located at the address specified by its operand. Following example makes use of these operations −"
   ]
  },
  {
   "cell_type": "code",
   "execution_count": 3,
   "metadata": {},
   "outputs": [],
   "source": [
    "#include <iostream>\n",
    "\n",
    "using namespace std;"
   ]
  },
  {
   "cell_type": "code",
   "execution_count": 4,
   "metadata": {},
   "outputs": [
    {
     "name": "stdout",
     "output_type": "stream",
     "text": [
      "Value of var variable: 20\n",
      "Address stored in ip variable: 0x7fffe48ab1d8\n",
      "Value of *ip variable: 20\n"
     ]
    }
   ],
   "source": [
    "int main () {\n",
    "   int  var = 20;   // actual variable declaration.\n",
    "   int  *ip;        // pointer variable \n",
    "\n",
    "   ip = &var;       // store address of var in pointer variable\n",
    "\n",
    "  std::cout <<\"Value of var variable: \";\n",
    "  std::cout <<var<<endl;\n",
    "\n",
    "   // print the address stored in ip pointer variable\n",
    "   std::cout <<\"Address stored in ip variable: \";\n",
    "   std::cout <<ip<<endl;\n",
    "\n",
    "   // access the value at the address available in pointer\n",
    "   std::cout <<\"Value of *ip variable: \";\n",
    "   std::cout <<*ip<<endl;\n",
    "\n",
    "   return 0;\n",
    "}\n",
    "main();"
   ]
  }
 ],
 "metadata": {
  "kernelspec": {
   "display_name": "C++17",
   "language": "C++17",
   "name": "xcpp17"
  },
  "language_info": {
   "codemirror_mode": "text/x-c++src",
   "file_extension": ".cpp",
   "mimetype": "text/x-c++src",
   "name": "c++",
   "version": "17"
  }
 },
 "nbformat": 4,
 "nbformat_minor": 4
}
