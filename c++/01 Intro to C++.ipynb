{
 "cells": [
  {
   "cell_type": "markdown",
   "metadata": {},
   "source": [
    "![](https://gotocode.io/static/assets/img/logo.jpg)"
   ]
  },
  {
   "cell_type": "markdown",
   "metadata": {},
   "source": [
    "# Introduction to C++ #"
   ]
  },
  {
   "cell_type": "markdown",
   "metadata": {},
   "source": [
    "C++ is a general-purpose programming language that was developed as an enhancement of the C language to include object-oriented paradigm. It is an **imperative** and a **compiled language**. "
   ]
  },
  {
   "cell_type": "markdown",
   "metadata": {},
   "source": [
    "C++ is a middle-level language rendering it the advantage of programming low-level (drivers, kernels) and even higher-level applications (games, GUI, desktop apps etc.). The basic syntax and code structure of both C and C++ are the same."
   ]
  },
  {
   "cell_type": "markdown",
   "metadata": {},
   "source": [
    "## Applications of C++ ##"
   ]
  },
  {
   "cell_type": "markdown",
   "metadata": {},
   "source": [
    "Operating Systems & Systems Programming. e.g. Linux-based OS (Ubuntu etc.)\n",
    "\n",
    "Browsers (Chrome & Firefox)\n",
    "\n",
    "Graphics & Game engines (Photoshop, Blender, Unreal-Engine)\n",
    "\n",
    "Database Engines (MySQL, MongoDB, Redis etc.)\n",
    "\n",
    "Cloud/Distributed Systems"
   ]
  },
  {
   "cell_type": "markdown",
   "metadata": {},
   "source": [
    "## Programming Environment ##"
   ]
  },
  {
   "cell_type": "markdown",
   "metadata": {},
   "source": [
    "To start using C++, you need two things:\n",
    "\n",
    "- A text editor, like Notepad, to write C++ code\n",
    "- A compiler, like GCC, to translate the C++ code into a language that the computer will understand"
   ]
  },
  {
   "cell_type": "markdown",
   "metadata": {},
   "source": [
    "##  Install IDE ##"
   ]
  },
  {
   "cell_type": "markdown",
   "metadata": {},
   "source": [
    "An IDE (Integrated Development Environment) is used to edit AND compile the code.\n",
    "\n",
    "Popular IDE's include **Code::Blocks**, Eclipse, and Visual Studio. These are all free, and they can be used to both edit and debug C++ code.\n",
    "\n",
    "We will use **Code::Blocks** in our tutorial, which we believe is a good place to start.\n",
    "\n",
    "You can find the latest version of Codeblocks at http://www.codeblocks.org/downloads/26. Download the _mingw-setup.exe_ file, which will install the text editor with a compiler."
   ]
  }
 ],
 "metadata": {
  "kernelspec": {
   "display_name": "C++11",
   "language": "C++11",
   "name": "xcpp11"
  },
  "language_info": {
   "codemirror_mode": "text/x-c++src",
   "file_extension": ".cpp",
   "mimetype": "text/x-c++src",
   "name": "c++",
   "version": "11"
  }
 },
 "nbformat": 4,
 "nbformat_minor": 4
}
