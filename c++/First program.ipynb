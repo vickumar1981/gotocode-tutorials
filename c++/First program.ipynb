{
 "cells": [
  {
   "cell_type": "markdown",
   "metadata": {},
   "source": [
    "# \"Hello, World!\" Program #\n"
   ]
  },
  {
   "cell_type": "code",
   "execution_count": 1,
   "metadata": {},
   "outputs": [],
   "source": [
    "// Your First C++ Program\n",
    "\n",
    "#include <iostream>\n",
    "\n",
    "int main() {\n",
    "    std::cout << \"Hello World!\";\n",
    "    return 0;\n",
    "}"
   ]
  },
  {
   "cell_type": "markdown",
   "metadata": {},
   "source": [
    "Hello World!\n"
   ]
  },
  {
   "cell_type": "markdown",
   "metadata": {},
   "source": [
    "## Working Of \"Hello World!\" Program ##"
   ]
  },
  {
   "cell_type": "markdown",
   "metadata": {},
   "source": [
    "### 1. // Your First C++ Program ###"
   ]
  },
  {
   "cell_type": "markdown",
   "metadata": {},
   "source": [
    "In C++, any line starting with **//** is a comment. Comments are intended for the person reading the code to better understand the functionality of the program. It is completely ignored by the C++ compiler."
   ]
  },
  {
   "cell_type": "markdown",
   "metadata": {},
   "source": [
    "### 2. include <iostream> ###\n",
    "    \n"
   ]
  },
  {
   "cell_type": "markdown",
   "metadata": {},
   "source": [
    "The #include is a preprocessor directive used to include files in our program. The above code is including the contents of the iostream file.\n",
    "\n",
    "This allows us to use cout in our program to print output on the screen.\n",
    "\n",
    "For now, just remember that we need to use #include <iostream> to use cout that allows us to print output on the screen."
   ]
  },
  {
   "cell_type": "markdown",
   "metadata": {},
   "source": [
    "### 3. int main() ### "
   ]
  },
  {
   "cell_type": "markdown",
   "metadata": {},
   "source": [
    "A valid C++ program must have the main() function. The curly braces indicate the start and the end of the function.\n",
    "\n",
    "The execution of code beings from this function."
   ]
  },
  {
   "cell_type": "markdown",
   "metadata": {},
   "source": [
    "### 4. std::cout << \"Hello World!\"; ###"
   ]
  },
  {
   "cell_type": "markdown",
   "metadata": {},
   "source": [
    "std::cout prints the content inside the quotation marks. It must be followed by << followed by the format string. In our example, \"Hello World!\" is the format string."
   ]
  },
  {
   "cell_type": "markdown",
   "metadata": {},
   "source": [
    "### 5. return 0; ###"
   ]
  },
  {
   "cell_type": "markdown",
   "metadata": {},
   "source": [
    "The return 0; statement is the \"Exit status\" of the program. In simple terms, the program ends with this statement."
   ]
  },
  {
   "cell_type": "markdown",
   "metadata": {},
   "source": [
    "**Note: ; is used to indicate the end of a statement.**"
   ]
  }
 ],
 "metadata": {
  "kernelspec": {
   "display_name": "C++17",
   "language": "C++17",
   "name": "xcpp17"
  },
  "language_info": {
   "codemirror_mode": "text/x-c++src",
   "file_extension": ".cpp",
   "mimetype": "text/x-c++src",
   "name": "c++",
   "version": "17"
  }
 },
 "nbformat": 4,
 "nbformat_minor": 4
}
