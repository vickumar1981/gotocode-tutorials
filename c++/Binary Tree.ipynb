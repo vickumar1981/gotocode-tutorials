{
 "cells": [
  {
   "cell_type": "markdown",
   "metadata": {},
   "source": [
    "# Binary Tree Data Structure #"
   ]
  },
  {
   "cell_type": "markdown",
   "metadata": {},
   "source": [
    "A tree whose elements have at most 2 children is called a binary tree. Since each element in a binary tree can have only 2 children, we typically name them the left and right child."
   ]
  },
  {
   "cell_type": "markdown",
   "metadata": {},
   "source": [
    "![image](https://www.geeksforgeeks.org/wp-content/uploads/binary-tree-to-DLL.png)"
   ]
  },
  {
   "cell_type": "markdown",
   "metadata": {},
   "source": [
    "A Binary Tree node contains following parts.\n",
    "\n",
    "**1.** Data\n",
    "\n",
    "**2.** Pointer to left child\n",
    "\n",
    "**3.** Pointer to right child"
   ]
  },
  {
   "cell_type": "markdown",
   "metadata": {},
   "source": [
    "**Trees:** Unlike Arrays, Linked Lists, Stack and queues, which are linear data structures, trees are hierarchical data structures.\n",
    "\n",
    "**Tree Vocabulary:** The topmost node is called root of the tree. The elements that are directly under an element are called its children. The element directly above something is called its parent. For example, ‘a’ is a child of ‘f’, and ‘f’ is the parent of ‘a’. Finally, elements with no children are called leaves. "
   ]
  },
  {
   "cell_type": "raw",
   "metadata": {},
   "source": [
    "   tree\n",
    "      ----\n",
    "       j    <-- root\n",
    "     /   \\\n",
    "    f      k  \n",
    "  /   \\      \\\n",
    " a     h      z    <-- leaves"
   ]
  },
  {
   "cell_type": "markdown",
   "metadata": {},
   "source": [
    "### Why Trees? ###"
   ]
  },
  {
   "cell_type": "markdown",
   "metadata": {},
   "source": [
    "**1.** One reason to use trees might be because you want to store information that naturally forms a hierarchy. For example, the file system on a computer: "
   ]
  },
  {
   "cell_type": "raw",
   "metadata": {},
   "source": [
    "file system\n",
    "-----------\n",
    "     /    <-- root\n",
    "  /      \\\n",
    "...       home\n",
    "      /          \\\n",
    "   ugrad        course\n",
    "    /       /      |     \\\n",
    "  ...      cs101  cs112  cs113"
   ]
  },
  {
   "cell_type": "markdown",
   "metadata": {},
   "source": [
    "**2.** Trees (with some ordering e.g., BST) provide moderate access/search (quicker than Linked List and slower than arrays).\n",
    "\n",
    "**3.** Trees provide moderate insertion/deletion (quicker than Arrays and slower than Unordered Linked Lists).\n",
    "\n",
    "**4.** Like Linked Lists and unlike Arrays, Trees don’t have an upper limit on number of nodes as nodes are linked using pointers."
   ]
  },
  {
   "cell_type": "markdown",
   "metadata": {},
   "source": [
    "### Main applications of trees include:  ###"
   ]
  },
  {
   "cell_type": "markdown",
   "metadata": {},
   "source": [
    "1. Manipulate hierarchical data. \n",
    "2. Make information easy to search (see tree traversal). \n",
    "3. Manipulate sorted lists of data. \n",
    "4. As a workflow for compositing digital images for visual effects. \n",
    "5. Router algorithms \n",
    "6. Form of a multi-stage decision-making (see business chess). "
   ]
  },
  {
   "cell_type": "markdown",
   "metadata": {},
   "source": [
    "### Binary Tree Representation in C ###"
   ]
  },
  {
   "cell_type": "markdown",
   "metadata": {},
   "source": [
    "A tree is represented by a pointer to the topmost node in tree. If the tree is empty, then value of root is NULL. \n",
    "A Tree node contains following parts. \n",
    "1. Data \n",
    "2. Pointer to left child \n",
    "3. Pointer to right child\n",
    "In C++, we can represent a tree node using structures. Below is an example of a tree node with an integer data."
   ]
  },
  {
   "cell_type": "raw",
   "metadata": {},
   "source": [
    "struct node \n",
    "{\n",
    "    int data;\n",
    "    struct node* left;\n",
    "    struct node* right;\n",
    "};"
   ]
  },
  {
   "cell_type": "markdown",
   "metadata": {},
   "source": [
    "### First Simple Tree in C ### \n",
    "Let us create a simple tree with 4 nodes in C. The created tree would be as following.  "
   ]
  },
  {
   "cell_type": "raw",
   "metadata": {},
   "source": [
    "  tree\n",
    "      ----\n",
    "       1    <-- root\n",
    "     /   \\\n",
    "    2     3  \n",
    "   /   \n",
    "  4"
   ]
  },
  {
   "cell_type": "raw",
   "metadata": {},
   "source": [
    "#include <bits/stdc++.h>\n",
    "using namespace std;\n",
    " \n",
    "struct Node {\n",
    "    int data;\n",
    "    struct Node* left;\n",
    "    struct Node* right;\n",
    " \n",
    "    // val is the key or the value that\n",
    "    // has to be added to the data part\n",
    "    Node(int val)\n",
    "    {\n",
    "        data = val;\n",
    " \n",
    "        // Left and right child for node\n",
    "        // will be initialized to null\n",
    "        left = NULL;\n",
    "        right = NULL;\n",
    "    }\n",
    "};\n",
    " \n",
    "int main()\n",
    "{\n",
    " \n",
    "    /*create root*/\n",
    "    struct Node* root = new Node(1);\n",
    "    /* following is the tree after above statement\n",
    " \n",
    "             1\n",
    "            / \\\n",
    "          NULL NULL\n",
    "    */\n",
    " \n",
    "    root->left = new Node(2);\n",
    "    root->right = new Node(3);\n",
    "    /* 2 and 3 become left and right children of 1\n",
    "                    1\n",
    "                  /    \\\n",
    "                 2       3\n",
    "               /  \\     /  \\\n",
    "            NULL NULL  NULL NULL\n",
    "    */\n",
    " \n",
    "    root->left->left = new Node(4);\n",
    "    /* 4 becomes left child of 2\n",
    "               1\n",
    "            /     \\\n",
    "           2       3\n",
    "          / \\     / \\\n",
    "         4  NULL NULL NULL\n",
    "        / \\\n",
    "     NULL NULL\n",
    "    */\n",
    " \n",
    "    return 0;\n",
    "}"
   ]
  },
  {
   "cell_type": "markdown",
   "metadata": {},
   "source": [
    "**Summary:** Tree is a hierarchical data structure. Main uses of trees include maintaining hierarchical data, providing moderate access and insert/delete operations. Binary trees are special cases of tree where every node has at most two children. "
   ]
  }
 ],
 "metadata": {
  "kernelspec": {
   "display_name": "C++17",
   "language": "C++17",
   "name": "xcpp17"
  },
  "language_info": {
   "codemirror_mode": "text/x-c++src",
   "file_extension": ".cpp",
   "mimetype": "text/x-c++src",
   "name": "c++",
   "version": "17"
  }
 },
 "nbformat": 4,
 "nbformat_minor": 4
}
