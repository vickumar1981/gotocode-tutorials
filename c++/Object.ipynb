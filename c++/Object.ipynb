{
 "cells": [
  {
   "cell_type": "markdown",
   "metadata": {},
   "source": [
    "# Classes and Objects #"
   ]
  },
  {
   "cell_type": "markdown",
   "metadata": {},
   "source": [
    "C++ is an object-oriented programming language.\n",
    "\n",
    "Everything in C++ is associated with classes and objects, along with its attributes and methods. For example: in real life, a car is an object. The car has attributes, such as weight and color, and methods, such as drive and brake.\n",
    "\n",
    "Attributes and methods are basically variables and functions that belongs to the class. These are often referred to as \"class members\".\n",
    "\n",
    "A class is a user-defined data type that we can use in our program, and it works as an object constructor, or a \"blueprint\" for creating objects."
   ]
  },
  {
   "cell_type": "markdown",
   "metadata": {},
   "source": [
    "## Create a Class ##"
   ]
  },
  {
   "cell_type": "markdown",
   "metadata": {},
   "source": [
    "To create a class, use the **class** keyword:"
   ]
  },
  {
   "cell_type": "markdown",
   "metadata": {},
   "source": [
    "**Example**"
   ]
  },
  {
   "cell_type": "markdown",
   "metadata": {},
   "source": [
    "Create a class called \"MyClass\":"
   ]
  },
  {
   "cell_type": "raw",
   "metadata": {},
   "source": [
    "class MyClass {       // The class\n",
    "  public:             // Access specifier\n",
    "    int myNum;        // Attribute (int variable)\n",
    "    string myString;  // Attribute (string variable)\n",
    "};"
   ]
  },
  {
   "cell_type": "markdown",
   "metadata": {},
   "source": [
    "## Create an Object ##"
   ]
  },
  {
   "cell_type": "markdown",
   "metadata": {},
   "source": [
    "In C++, an object is created from a class. We have already created the class named MyClass, so now we can use this to create objects.\n",
    "\n",
    "To create an object of MyClass, specify the class name, followed by the object name.\n",
    "\n",
    "To access the class attributes (myNum and myString), use the dot syntax (.) on the object:"
   ]
  },
  {
   "cell_type": "markdown",
   "metadata": {},
   "source": [
    "**Example**"
   ]
  },
  {
   "cell_type": "markdown",
   "metadata": {},
   "source": [
    "Create an object called \"myObj\" and access the attributes:"
   ]
  },
  {
   "cell_type": "code",
   "execution_count": 1,
   "metadata": {},
   "outputs": [],
   "source": [
    "#include <iostream>\n",
    "using namespace std;"
   ]
  },
  {
   "cell_type": "code",
   "execution_count": 2,
   "metadata": {},
   "outputs": [],
   "source": [
    "class MyClass {       // The class\n",
    "  public:             // Access specifier\n",
    "    int myNum;        // Attribute (int variable)\n",
    "    string myString;  // Attribute (string variable)\n",
    "};"
   ]
  },
  {
   "cell_type": "code",
   "execution_count": 3,
   "metadata": {},
   "outputs": [
    {
     "name": "stdout",
     "output_type": "stream",
     "text": [
      "15\n",
      "Some text"
     ]
    }
   ],
   "source": [
    "int main() {\n",
    "  MyClass myObj;  // Create an object of MyClass\n",
    "\n",
    "  // Access attributes and set values\n",
    "  myObj.myNum = 15; \n",
    "  myObj.myString = \"Some text\";\n",
    "\n",
    "  // Print attribute values\n",
    "  cout << myObj.myNum << \"\\n\";\n",
    "  cout << myObj.myString;\n",
    "  return 0;\n",
    "}\n",
    "main();"
   ]
  }
 ],
 "metadata": {
  "kernelspec": {
   "display_name": "C++17",
   "language": "C++17",
   "name": "xcpp17"
  },
  "language_info": {
   "codemirror_mode": "text/x-c++src",
   "file_extension": ".cpp",
   "mimetype": "text/x-c++src",
   "name": "c++",
   "version": "17"
  }
 },
 "nbformat": 4,
 "nbformat_minor": 4
}
