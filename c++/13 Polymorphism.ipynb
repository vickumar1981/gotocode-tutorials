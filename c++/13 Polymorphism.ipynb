{
 "cells": [
  {
   "cell_type": "markdown",
   "metadata": {},
   "source": [
    "![](https://gotocode.io/static/img/logo_collapsed.png)\n",
    "![](https://gotocode.io/static/img/logo.png)"
   ]
  },
  {
   "cell_type": "markdown",
   "metadata": {},
   "source": [
    "# Polymorphism #"
   ]
  },
  {
   "cell_type": "markdown",
   "metadata": {},
   "source": [
    "Polymorphism means \"many forms\", and it occurs when we have many classes that are related to each other by inheritance.\n",
    "\n",
    "Like we specified in the previous chapter; Inheritance lets us inherit attributes and methods from another class. Polymorphism uses those methods to perform different tasks. This allows us to perform a single action in different ways.\n",
    "\n",
    "For example, think of a base class called **Animal** that has a method called **animalSound().** Derived classes of Animals could be Pigs, Cats, Dogs, Birds - And they also have their own implementation of an animal sound (the pig oinks, and the cat meows, etc.):"
   ]
  },
  {
   "cell_type": "markdown",
   "metadata": {},
   "source": [
    "**Example**"
   ]
  },
  {
   "cell_type": "raw",
   "metadata": {},
   "source": [
    "// Base class\n",
    "class Animal {\n",
    "  public:\n",
    "    void animalSound() {\n",
    "    cout << \"The animal makes a sound \\n\" ;\n",
    "  }\n",
    "};\n",
    "\n",
    "// Derived class\n",
    "class Pig : public Animal {\n",
    "  public:\n",
    "    void animalSound() {\n",
    "    cout << \"The pig says: wee wee \\n\" ;\n",
    "  }\n",
    "};\n",
    "\n",
    "// Derived class\n",
    "class Dog : public Animal {\n",
    "  public:\n",
    "    void animalSound() {\n",
    "    cout << \"The dog says: bow wow \\n\" ;\n",
    "  }\n",
    "};"
   ]
  },
  {
   "cell_type": "markdown",
   "metadata": {},
   "source": [
    "Now we can create **Pig** and **Dog** objects and override the **animalSound()** method:"
   ]
  },
  {
   "cell_type": "markdown",
   "metadata": {},
   "source": [
    "**Example**"
   ]
  },
  {
   "cell_type": "code",
   "execution_count": 5,
   "metadata": {},
   "outputs": [],
   "source": [
    "#include<iostream>\n",
    "using namespace std;"
   ]
  },
  {
   "cell_type": "code",
   "execution_count": 6,
   "metadata": {},
   "outputs": [],
   "source": [
    "// Base class\n",
    "class Animal {\n",
    "  public:\n",
    "    void animalSound() {\n",
    "    cout << \"The animal makes a sound \\n\" ;\n",
    "  }\n",
    "};"
   ]
  },
  {
   "cell_type": "code",
   "execution_count": 7,
   "metadata": {},
   "outputs": [],
   "source": [
    "// Derived class\n",
    "class Pig : public Animal {\n",
    "  public:\n",
    "    void animalSound() {\n",
    "    cout << \"The pig says: wee wee \\n\" ;\n",
    "   }\n",
    "};"
   ]
  },
  {
   "cell_type": "code",
   "execution_count": 8,
   "metadata": {},
   "outputs": [],
   "source": [
    "// Derived class\n",
    "class Dog : public Animal {\n",
    "  public:\n",
    "    void animalSound() {\n",
    "    cout << \"The dog says: bow wow \\n\" ;\n",
    "  }\n",
    "};"
   ]
  },
  {
   "cell_type": "code",
   "execution_count": 9,
   "metadata": {},
   "outputs": [
    {
     "name": "stdout",
     "output_type": "stream",
     "text": [
      "The animal makes a sound \n",
      "The pig says: wee wee \n",
      "The dog says: bow wow \n"
     ]
    }
   ],
   "source": [
    "int main() {\n",
    "  Animal myAnimal;\n",
    "  Pig myPig;\n",
    "  Dog myDog;\n",
    "\n",
    "  myAnimal.animalSound();\n",
    "  myPig.animalSound();\n",
    "  myDog.animalSound();\n",
    "  return 0;\n",
    "}\n",
    "main();"
   ]
  }
 ],
 "metadata": {
  "kernelspec": {
   "display_name": "C++17",
   "language": "C++17",
   "name": "xcpp17"
  },
  "language_info": {
   "codemirror_mode": "text/x-c++src",
   "file_extension": ".cpp",
   "mimetype": "text/x-c++src",
   "name": "c++",
   "version": "17"
  }
 },
 "nbformat": 4,
 "nbformat_minor": 4
}
