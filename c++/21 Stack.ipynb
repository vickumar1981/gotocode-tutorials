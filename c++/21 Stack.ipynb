{
 "cells": [
  {
   "cell_type": "markdown",
   "metadata": {},
   "source": [
    "![](https://gotocode.io/static/assets/img/logo.jpg)"
   ]
  },
  {
   "cell_type": "markdown",
   "metadata": {},
   "source": [
    "# Stack Data Structure #"
   ]
  },
  {
   "cell_type": "markdown",
   "metadata": {},
   "source": [
    "Stack is a linear data structure which follows a particular order in which the operations are performed. The order may be LIFO(Last In First Out) or FILO(First In Last Out).\n",
    "\n",
    "Mainly the following three basic operations are performed in the stack:\n",
    "\n",
    "- **Push:** Adds an item in the stack. If the stack is full, then it is said to be an Overflow condition.\n",
    "- **Pop:** Removes an item from the stack. The items are popped in the reversed order in which they are pushed. If the stack is empty, then it is said to be an Underflow condition.\n",
    "- **Peek or Top:** Returns top element of stack.\n",
    "- **isEmpty:** Returns true if stack is empty, else false."
   ]
  },
  {
   "cell_type": "markdown",
   "metadata": {},
   "source": [
    "![image](https://www.geeksforgeeks.org/wp-content/uploads/gq/2013/03/stack.png)"
   ]
  },
  {
   "cell_type": "markdown",
   "metadata": {},
   "source": [
    "### How to understand a stack practically?  ###"
   ]
  },
  {
   "cell_type": "markdown",
   "metadata": {},
   "source": [
    "There are many real-life examples of a stack. Consider the simple example of plates stacked over one another in a canteen. The plate which is at the top is the first one to be removed, i.e. the plate which has been placed at the bottommost position remains in the stack for the longest period of time. So, it can be simply seen to follow LIFO/FILO order."
   ]
  },
  {
   "cell_type": "markdown",
   "metadata": {},
   "source": [
    "### Time Complexities of operations on stack: ###"
   ]
  },
  {
   "cell_type": "markdown",
   "metadata": {},
   "source": [
    "push(), pop(), isEmpty() and peek() all take O(1) time. We do not run any loop in any of these operations"
   ]
  },
  {
   "cell_type": "markdown",
   "metadata": {},
   "source": [
    "### Applications of stack: ###"
   ]
  },
  {
   "cell_type": "markdown",
   "metadata": {},
   "source": [
    "- Balancing of symbols\n",
    "- Infix to Postfix /Prefix conversion\n",
    "- Redo-undo features at many places like editors, photoshop.\n",
    "- Forward and backward feature in web browsers\n",
    "- Used in many algorithms like Tower of Hanoi, tree traversals, stock span problem, histogram problem.\n",
    "- Backtracking is one of the algorithm designing technique .Some example of back tracking are Knight-Tour problem,N-Queen problem,find your way through maze and game like chess or checkers in all this problems we dive into someway if that way is not efficient we come back to the previous state and go into some another path. To get back from current state we need to store the previous state for that purpose we need stack.\n",
    "- In Graph Algorithms like Topological Sorting and Strongly Connected Components\n",
    "- In Memory management any modern  computer uses stack as the primary-management for a running purpose.Each program that is running in a computer system has its own memory allocations\n",
    "- String reversal is also a another application of stack.Here one by one each character get inserted into the stack.So the first character of string is on the bottom of the stack and the last element of string is on the top of stack. After Performing the pop operations on stack we get string in reverse order ."
   ]
  },
  {
   "cell_type": "markdown",
   "metadata": {},
   "source": [
    "### Implementation:  ###"
   ]
  },
  {
   "cell_type": "markdown",
   "metadata": {},
   "source": [
    "There are two ways to implement a stack: \n",
    "\n",
    "- Using array\n",
    "- Using linked list"
   ]
  },
  {
   "cell_type": "markdown",
   "metadata": {},
   "source": [
    "#### Implementing Stack using Arrays ####"
   ]
  },
  {
   "cell_type": "code",
   "execution_count": 1,
   "metadata": {},
   "outputs": [],
   "source": [
    "/* C++ program to implement basic stack\n",
    "   operations */\n",
    "#include <bits/stdc++.h>\n",
    " \n",
    "using namespace std;\n",
    "\n",
    "#define MAX 1000\n",
    " "
   ]
  },
  {
   "cell_type": "code",
   "execution_count": 2,
   "metadata": {},
   "outputs": [],
   "source": [
    "class Stack {\n",
    "    int top;\n",
    " \n",
    "public:\n",
    "    int a[MAX]; // Maximum size of Stack\n",
    " \n",
    "    Stack() { top = -1; }\n",
    "    bool push(int x);\n",
    "    int pop();\n",
    "    int peek();\n",
    "    bool isEmpty();\n",
    "};\n",
    " "
   ]
  },
  {
   "cell_type": "code",
   "execution_count": 3,
   "metadata": {},
   "outputs": [],
   "source": [
    "bool Stack::push(int x)\n",
    "{\n",
    "    if (top >= (MAX - 1)) {\n",
    "        cout << \"Stack Overflow\";\n",
    "        return false;\n",
    "    }\n",
    "    else {\n",
    "        a[++top] = x;\n",
    "        cout << x << \" pushed into stack\\n\";\n",
    "        return true;\n",
    "    }\n",
    "}\n",
    " "
   ]
  },
  {
   "cell_type": "code",
   "execution_count": 4,
   "metadata": {},
   "outputs": [],
   "source": [
    "int Stack::pop()\n",
    "{\n",
    "    if (top < 0) {\n",
    "        cout << \"Stack Underflow\";\n",
    "        return 0;\n",
    "    }\n",
    "    else {\n",
    "        int x = a[top--];\n",
    "        return x;\n",
    "    }\n",
    "}"
   ]
  },
  {
   "cell_type": "code",
   "execution_count": 5,
   "metadata": {},
   "outputs": [],
   "source": [
    "int Stack::peek()\n",
    "{\n",
    "    if (top < 0) {\n",
    "        cout << \"Stack is Empty\";\n",
    "        return 0;\n",
    "    }\n",
    "    else {\n",
    "        int x = a[top];\n",
    "        return x;\n",
    "    }\n",
    "}\n",
    " "
   ]
  },
  {
   "cell_type": "code",
   "execution_count": 6,
   "metadata": {},
   "outputs": [],
   "source": [
    "bool Stack::isEmpty()\n",
    "{\n",
    "    return (top < 0);\n",
    "}\n",
    " "
   ]
  },
  {
   "cell_type": "code",
   "execution_count": 7,
   "metadata": {},
   "outputs": [
    {
     "name": "stdout",
     "output_type": "stream",
     "text": [
      "10 pushed into stack\n",
      "20 pushed into stack\n",
      "30 pushed into stack\n",
      "30 Popped from stack\n"
     ]
    }
   ],
   "source": [
    "// Driver program to test above functions\n",
    "int main()\n",
    "{\n",
    "    class Stack s;\n",
    "    s.push(10);\n",
    "    s.push(20);\n",
    "    s.push(30);\n",
    "    cout << s.pop() << \" Popped from stack\\n\";\n",
    " \n",
    "    return 0;\n",
    "}\n",
    "main();"
   ]
  },
  {
   "cell_type": "markdown",
   "metadata": {},
   "source": [
    "**Pros:** Easy to implement. Memory is saved as pointers are not involved.\n",
    "\n",
    "**Cons:** It is not dynamic. It doesn’t grow and shrink depending on needs at runtime."
   ]
  },
  {
   "cell_type": "markdown",
   "metadata": {},
   "source": [
    "#### Implementing Stack using Linked List ####"
   ]
  },
  {
   "cell_type": "code",
   "execution_count": 8,
   "metadata": {},
   "outputs": [],
   "source": [
    "// C++ program for linked list implementation of stack\n",
    "#include <bits/stdc++.h>\n",
    "using namespace std;"
   ]
  },
  {
   "cell_type": "code",
   "execution_count": 9,
   "metadata": {},
   "outputs": [],
   "source": [
    " \n",
    "// A structure to represent a stack\n",
    "class StackNode {\n",
    "public:\n",
    "    int data;\n",
    "    StackNode* next;\n",
    "};\n",
    " "
   ]
  },
  {
   "cell_type": "code",
   "execution_count": 10,
   "metadata": {},
   "outputs": [],
   "source": [
    "StackNode* newNode(int data)\n",
    "{\n",
    "    StackNode* stackNode = new StackNode();\n",
    "    stackNode->data = data;\n",
    "    stackNode->next = NULL;\n",
    "    return stackNode;\n",
    "}\n",
    " "
   ]
  },
  {
   "cell_type": "code",
   "execution_count": 11,
   "metadata": {},
   "outputs": [],
   "source": [
    "int isEmpty(StackNode* root)\n",
    "{\n",
    "    return !root;\n",
    "}\n",
    " "
   ]
  },
  {
   "cell_type": "code",
   "execution_count": 12,
   "metadata": {},
   "outputs": [],
   "source": [
    "void push(StackNode** root, int data)\n",
    "{\n",
    "    StackNode* stackNode = newNode(data);\n",
    "    stackNode->next = *root;\n",
    "    *root = stackNode;\n",
    "    cout << data << \" pushed to stack\\n\";\n",
    "}\n",
    " "
   ]
  },
  {
   "cell_type": "code",
   "execution_count": 13,
   "metadata": {},
   "outputs": [],
   "source": [
    "int pop(StackNode** root)\n",
    "{\n",
    "    if (isEmpty(*root))\n",
    "        return INT_MIN;\n",
    "    StackNode* temp = *root;\n",
    "    *root = (*root)->next;\n",
    "    int popped = temp->data;\n",
    "    free(temp);\n",
    " \n",
    "    return popped;\n",
    "}"
   ]
  },
  {
   "cell_type": "code",
   "execution_count": 14,
   "metadata": {},
   "outputs": [],
   "source": [
    " \n",
    "int peek(StackNode* root)\n",
    "{\n",
    "    if (isEmpty(root))\n",
    "        return INT_MIN;\n",
    "    return root->data;\n",
    "}"
   ]
  },
  {
   "cell_type": "code",
   "execution_count": 15,
   "metadata": {},
   "outputs": [
    {
     "name": "stdout",
     "output_type": "stream",
     "text": [
      "10 pushed to stack\n",
      "20 pushed to stack\n",
      "30 pushed to stack\n",
      "30 popped from stack\n",
      "Top element is 20\n"
     ]
    }
   ],
   "source": [
    " \n",
    "// Driver code\n",
    "int main()\n",
    "{\n",
    "    StackNode* root = NULL;\n",
    " \n",
    "    push(&root, 10);\n",
    "    push(&root, 20);\n",
    "    push(&root, 30);\n",
    " \n",
    "    cout << pop(&root) << \" popped from stack\\n\";\n",
    " \n",
    "    cout << \"Top element is \" << peek(root) << endl;\n",
    " \n",
    "    return 0;\n",
    "}\n",
    "main();"
   ]
  },
  {
   "cell_type": "markdown",
   "metadata": {},
   "source": [
    "**Pros:** The linked list implementation of stack can grow and shrink according to the needs at runtime.\n",
    "\n",
    "**Cons:** Requires extra memory due to involvement of pointers."
   ]
  }
 ],
 "metadata": {
  "kernelspec": {
   "display_name": "C++17",
   "language": "C++17",
   "name": "xcpp17"
  },
  "language_info": {
   "codemirror_mode": "text/x-c++src",
   "file_extension": ".cpp",
   "mimetype": "text/x-c++src",
   "name": "c++",
   "version": "17"
  }
 },
 "nbformat": 4,
 "nbformat_minor": 4
}
