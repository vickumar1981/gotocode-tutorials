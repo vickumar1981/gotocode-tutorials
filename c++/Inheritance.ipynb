{
 "cells": [
  {
   "cell_type": "markdown",
   "metadata": {},
   "source": [
    "# Inheritance #"
   ]
  },
  {
   "cell_type": "markdown",
   "metadata": {},
   "source": [
    "In C++, it is possible to inherit attributes and methods from one class to another. We group the \"inheritance concept\" into two categories:\n",
    "\n",
    "- derived class (child) - the class that inherits from another class\n",
    "- base class (parent) - the class being inherited from\n",
    "To inherit from a class, use the : symbol.\n",
    "\n",
    "In the example below, the **Car** class (child) inherits the attributes and methods from the **Vehicle** class (parent):"
   ]
  },
  {
   "cell_type": "markdown",
   "metadata": {},
   "source": [
    "**Example**"
   ]
  },
  {
   "cell_type": "raw",
   "metadata": {},
   "source": [
    "// Base class\n",
    "class Vehicle {\n",
    "  public:\n",
    "    string brand = \"Ford\";\n",
    "    void honk() {\n",
    "      cout << \"Tuut, tuut! \\n\" ;\n",
    "    }\n",
    "};\n",
    "\n",
    "// Derived class\n",
    "class Car: public Vehicle {\n",
    "  public:\n",
    "    string model = \"Mustang\";\n",
    "};\n",
    "\n",
    "int main() {\n",
    "  Car myCar;\n",
    "  myCar.honk();\n",
    "  cout << myCar.brand + \" \" + myCar.model;\n",
    "  return 0;\n",
    "}"
   ]
  },
  {
   "cell_type": "markdown",
   "metadata": {},
   "source": [
    "# Multilevel Inheritance #"
   ]
  },
  {
   "cell_type": "markdown",
   "metadata": {},
   "source": [
    "A class can also be derived from one class, which is already derived from another class.\n",
    "\n",
    "In the following example, **MyGrandChild** is derived from class **MyChild** (which is derived from **MyClass**)."
   ]
  },
  {
   "cell_type": "markdown",
   "metadata": {},
   "source": [
    "**Example**"
   ]
  },
  {
   "cell_type": "raw",
   "metadata": {},
   "source": [
    "// Base class (parent)\n",
    "class MyClass {\n",
    "  public:\n",
    "    void myFunction() {\n",
    "      cout << \"Some content in parent class.\" ;\n",
    "    }\n",
    "};\n",
    "\n",
    "// Derived class (child)\n",
    "class MyChild: public MyClass {\n",
    "};\n",
    "\n",
    "// Derived class (grandchild)\n",
    "class MyGrandChild: public MyChild {\n",
    "};\n",
    "\n",
    "int main() {\n",
    "  MyGrandChild myObj;\n",
    "  myObj.myFunction();\n",
    "  return 0;\n",
    "}"
   ]
  },
  {
   "cell_type": "markdown",
   "metadata": {},
   "source": [
    "# Multiple Inheritance #"
   ]
  },
  {
   "cell_type": "markdown",
   "metadata": {},
   "source": [
    "A class can also be derived from more than one base class, using a comma-separated list:"
   ]
  },
  {
   "cell_type": "markdown",
   "metadata": {},
   "source": [
    "**Example**"
   ]
  },
  {
   "cell_type": "raw",
   "metadata": {},
   "source": [
    "// Base class\n",
    "class MyClass {\n",
    "  public:\n",
    "    void myFunction() {\n",
    "      cout << \"Some content in parent class.\" ;\n",
    "    }\n",
    "};\n",
    "\n",
    "// Another base class\n",
    "class MyOtherClass {\n",
    "  public:\n",
    "    void myOtherFunction() {\n",
    "      cout << \"Some content in another class.\" ;\n",
    "    }\n",
    "};\n",
    "\n",
    "// Derived class\n",
    "class MyChildClass: public MyClass, public MyOtherClass {\n",
    "};\n",
    "\n",
    "int main() {\n",
    "  MyChildClass myObj;\n",
    "  myObj.myFunction();\n",
    "  myObj.myOtherFunction();\n",
    "  return 0;\n",
    "}"
   ]
  }
 ],
 "metadata": {
  "kernelspec": {
   "display_name": "C++17",
   "language": "C++17",
   "name": "xcpp17"
  },
  "language_info": {
   "codemirror_mode": "text/x-c++src",
   "file_extension": ".cpp",
   "mimetype": "text/x-c++src",
   "name": "c++",
   "version": "17"
  }
 },
 "nbformat": 4,
 "nbformat_minor": 4
}
