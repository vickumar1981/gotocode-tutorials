{
 "cells": [
  {
   "cell_type": "markdown",
   "metadata": {},
   "source": [
    "# Arrays #"
   ]
  },
  {
   "cell_type": "markdown",
   "metadata": {},
   "source": [
    "C++ provides a data structure, **the array**, which stores a fixed-size sequential collection of elements of the same type. An array is used to store a collection of data, but it is often more useful to think of an array as a collection of variables of the same type.\n",
    "\n",
    "Instead of declaring individual variables, such as number0, number1, ..., and number99, you declare one array variable such as numbers and use numbers[0], numbers[1], and ..., numbers[99] to represent individual variables. A specific element in an array is accessed by an index.\n",
    "\n",
    "All arrays consist of contiguous memory locations. The lowest address corresponds to the first element and the highest address to the last element."
   ]
  },
  {
   "cell_type": "markdown",
   "metadata": {},
   "source": [
    "## Declaring Arrays ##"
   ]
  },
  {
   "cell_type": "markdown",
   "metadata": {},
   "source": [
    "To declare an array in C++, the programmer specifies the type of the elements and the number of elements required by an array as follows −"
   ]
  },
  {
   "cell_type": "raw",
   "metadata": {},
   "source": [
    "type arrayName [ arraySize ];"
   ]
  },
  {
   "cell_type": "markdown",
   "metadata": {},
   "source": [
    "This is called a single-dimension array. The arraySize must be an integer constant greater than zero and type can be any valid C++ data type. For example, to declare a 10-element array called balance of type double, use this statement −"
   ]
  },
  {
   "cell_type": "raw",
   "metadata": {},
   "source": [
    "double balance[10];"
   ]
  },
  {
   "cell_type": "markdown",
   "metadata": {},
   "source": [
    "The number of values between braces { } can not be larger than the number of elements that we declare for the array between square brackets [ ]. Following is an example to assign a single element of the array −\n",
    "\n",
    "If you omit the size of the array, an array just big enough to hold the initialization is created. Therefore, if you write −"
   ]
  },
  {
   "cell_type": "raw",
   "metadata": {},
   "source": [
    "double balance[] = {1000.0, 2.0, 3.4, 17.0, 50.0};"
   ]
  },
  {
   "cell_type": "markdown",
   "metadata": {},
   "source": [
    "You will create exactly the same array as you did in the previous example."
   ]
  },
  {
   "cell_type": "raw",
   "metadata": {},
   "source": [
    "## Accessing Array Elements ##"
   ]
  },
  {
   "cell_type": "markdown",
   "metadata": {},
   "source": [
    "An element is accessed by indexing the array name. This is done by placing the index of the element within square brackets after the name of the array. For example −"
   ]
  },
  {
   "cell_type": "raw",
   "metadata": {},
   "source": [
    "double salary = balance[9];"
   ]
  },
  {
   "cell_type": "markdown",
   "metadata": {},
   "source": [
    "## Loop Through an Array ##"
   ]
  },
  {
   "cell_type": "markdown",
   "metadata": {},
   "source": [
    "You can loop through the array elements with the for loop.\n",
    "\n",
    "The following example outputs all elements in the cars array:"
   ]
  },
  {
   "cell_type": "raw",
   "metadata": {},
   "source": [
    "string cars[4] = {\"Volvo\", \"BMW\", \"Ford\", \"Mazda\"};\n",
    "for(int i = 0; i < 4; i++) {\n",
    "  cout << cars[i] << \"\\n\";\n",
    "}"
   ]
  }
 ],
 "metadata": {
  "kernelspec": {
   "display_name": "C++17",
   "language": "C++17",
   "name": "xcpp17"
  },
  "language_info": {
   "codemirror_mode": "text/x-c++src",
   "file_extension": ".cpp",
   "mimetype": "text/x-c++src",
   "name": "c++",
   "version": "17"
  }
 },
 "nbformat": 4,
 "nbformat_minor": 4
}
