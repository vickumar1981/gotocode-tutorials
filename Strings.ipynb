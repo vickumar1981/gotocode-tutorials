{
 "cells": [
  {
   "cell_type": "markdown",
   "metadata": {},
   "source": [
    "# Strings #"
   ]
  },
  {
   "cell_type": "markdown",
   "metadata": {},
   "source": [
    "Strings are objects that represent sequences of characters.\n"
   ]
  },
  {
   "cell_type": "markdown",
   "metadata": {},
   "source": [
    "A string variable contains a collection of characters surrounded by double quotes:"
   ]
  },
  {
   "cell_type": "markdown",
   "metadata": {},
   "source": [
    "**Example**"
   ]
  },
  {
   "cell_type": "markdown",
   "metadata": {},
   "source": [
    "Create a variable of type string and assign it a value:"
   ]
  },
  {
   "cell_type": "raw",
   "metadata": {},
   "source": [
    "string greeting = \"Hello\";"
   ]
  },
  {
   "cell_type": "raw",
   "metadata": {},
   "source": [
    "To use strings, you must include an additional header file in the source code, the <string> library:"
   ]
  },
  {
   "cell_type": "raw",
   "metadata": {},
   "source": [
    "// Include the string library\n",
    "#include <string>\n",
    "\n",
    "// Create a string variable\n",
    "string greeting = \"Hello\";"
   ]
  },
  {
   "cell_type": "markdown",
   "metadata": {},
   "source": [
    "## String Concatenation ##"
   ]
  },
  {
   "cell_type": "markdown",
   "metadata": {},
   "source": [
    "The **+** operator can be used between strings to add them together to make a new string. This is called concatenation:"
   ]
  },
  {
   "cell_type": "raw",
   "metadata": {},
   "source": [
    "string firstName = \"John \";\n",
    "string lastName = \"Doe\";\n",
    "string fullName = firstName + lastName;\n",
    "cout << fullName;"
   ]
  },
  {
   "cell_type": "markdown",
   "metadata": {},
   "source": [
    "## Append ##"
   ]
  },
  {
   "cell_type": "markdown",
   "metadata": {},
   "source": [
    "A string in C++ is actually an object, which contain functions that can perform certain operations on strings. For example, you can also concatenate strings with the append() function:"
   ]
  },
  {
   "cell_type": "raw",
   "metadata": {},
   "source": [
    "string firstName = \"John \";\n",
    "string lastName = \"Doe\";\n",
    "string fullName = firstName.append(lastName);\n",
    "cout << fullName;"
   ]
  },
  {
   "cell_type": "raw",
   "metadata": {},
   "source": []
  },
  {
   "cell_type": "code",
   "execution_count": null,
   "metadata": {},
   "outputs": [],
   "source": []
  }
 ],
 "metadata": {
  "kernelspec": {
   "display_name": "C++17",
   "language": "C++17",
   "name": "xcpp17"
  },
  "language_info": {
   "codemirror_mode": "text/x-c++src",
   "file_extension": ".cpp",
   "mimetype": "text/x-c++src",
   "name": "c++",
   "version": "17"
  }
 },
 "nbformat": 4,
 "nbformat_minor": 4
}
