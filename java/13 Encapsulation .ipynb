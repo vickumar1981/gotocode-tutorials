{
 "cells": [
  {
   "cell_type": "markdown",
   "metadata": {},
   "source": [
    "# Encapsulation #"
   ]
  },
  {
   "cell_type": "markdown",
   "metadata": {},
   "source": [
    "Encapsulation in Java is a process of wrapping code and data together into a single unit, for example, a capsule which is mixed of several medicines.\n",
    "\n",
    "encapsulation in java\n",
    "We can create a fully encapsulated class in Java by making all the data members of the class private. Now we can use setter and getter methods to set and get the data in it.\n",
    "\n",
    "The Java Bean class is the example of a fully encapsulated class."
   ]
  },
  {
   "cell_type": "markdown",
   "metadata": {},
   "source": [
    "## Advantage of Encapsulation ##"
   ]
  },
  {
   "cell_type": "markdown",
   "metadata": {},
   "source": [
    "By providing only a setter or getter method, you can make the class read-only or write-only. In other words, you can skip the getter or setter methods.\n",
    "\n",
    "It provides you the control over the data. Suppose you want to set the value of id which should be greater than 100 only, you can write the logic inside the setter method. You can write the logic not to store the negative numbers in the setter methods.\n",
    "\n",
    "It is a way to achieve data hiding in Java because other class will not be able to access the data through the private data members.\n",
    "\n",
    "The encapsulate class is easy to test. So, it is better for unit testing.\n",
    "\n",
    "The standard IDE's are providing the facility to generate the getters and setters. So, it is easy and fast to create an encapsulated class in Java."
   ]
  },
  {
   "cell_type": "markdown",
   "metadata": {},
   "source": [
    "**Example**"
   ]
  },
  {
   "cell_type": "code",
   "execution_count": 3,
   "metadata": {},
   "outputs": [],
   "source": [
    "class Encapsulation{\n",
    "    private int ssn;\n",
    "    private String empName;\n",
    "    private int empAge;\n",
    "\n",
    "    public int getEmpSSN(){\n",
    "        return ssn;\n",
    "    }\n",
    "\n",
    "    public String getEmpName(){\n",
    "        return empName;\n",
    "    }\n",
    "\n",
    "    public int getEmpAge(){\n",
    "        return empAge;\n",
    "    }\n",
    "\n",
    "    public void setEmpAge(int newValue){\n",
    "        empAge = newValue;\n",
    "    }\n",
    "\n",
    "    public void setEmpName(String newValue){\n",
    "        empName = newValue;\n",
    "    }\n",
    "\n",
    "    public void setEmpSSN(int newValue){\n",
    "        ssn = newValue;\n",
    "    }\n",
    "}\n",
    "public class EncapsTest{\n",
    "    public static void main(String args[]){\n",
    "         EncapsulationDemo obj = new EncapsulationDemo();\n",
    "         obj.setEmpName(\"Mario\");\n",
    "         obj.setEmpAge(32);\n",
    "         obj.setEmpSSN(112233);\n",
    "         System.out.println(\"Employee Name: \" + obj.getEmpName());\n",
    "         System.out.println(\"Employee SSN: \" + obj.getEmpSSN());\n",
    "         System.out.println(\"Employee Age: \" + obj.getEmpAge());\n",
    "    } \n",
    "}"
   ]
  },
  {
   "cell_type": "code",
   "execution_count": 4,
   "metadata": {},
   "outputs": [
    {
     "name": "stdout",
     "output_type": "stream",
     "text": [
      "Employee Name: Mario\n",
      "Employee SSN: 112233\n",
      "Employee Age: 32\n"
     ]
    }
   ],
   "source": [
    "var p=new EncapsTest();\n",
    "p.main(null);\n"
   ]
  }
 ],
 "metadata": {
  "kernelspec": {
   "display_name": "Java",
   "language": "java",
   "name": "java"
  },
  "language_info": {
   "codemirror_mode": "java",
   "file_extension": ".jshell",
   "mimetype": "text/x-java-source",
   "name": "Java",
   "pygments_lexer": "java",
   "version": "15.0.1+9-18"
  }
 },
 "nbformat": 4,
 "nbformat_minor": 4
}
