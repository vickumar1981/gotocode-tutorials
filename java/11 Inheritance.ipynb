{
 "cells": [
  {
   "cell_type": "markdown",
   "metadata": {},
   "source": [
    "![](https://gotocode.io/static/img/logo_collapsed.png)\n",
    "![](https://gotocode.io/static/img/logo.png)"
   ]
  },
  {
   "cell_type": "markdown",
   "metadata": {},
   "source": [
    "# Inheritance #"
   ]
  },
  {
   "cell_type": "markdown",
   "metadata": {},
   "source": [
    "Inheritance in Java is a mechanism in which one object acquires all the properties and behaviors of a parent object. It is an important part of OOPs.\n",
    "\n",
    "The idea behind inheritance in Java is that you can create new classes that are built upon existing classes. When you inherit from an existing class, you can reuse methods and fields of the parent class. Moreover, you can add new methods and fields in your current class also."
   ]
  },
  {
   "cell_type": "markdown",
   "metadata": {},
   "source": [
    "## Why use inheritance in java ##"
   ]
  },
  {
   "cell_type": "markdown",
   "metadata": {},
   "source": [
    "- For Method Overriding (so runtime polymorphism can be achieved).\n",
    "- For Code Reusability."
   ]
  },
  {
   "cell_type": "markdown",
   "metadata": {},
   "source": [
    "**Syntax of Java Inheritance**"
   ]
  },
  {
   "cell_type": "raw",
   "metadata": {},
   "source": [
    "class Subclass-name extends Superclass-name  \n",
    "{  \n",
    "   //methods and fields  \n",
    "}  "
   ]
  },
  {
   "cell_type": "markdown",
   "metadata": {},
   "source": [
    "The **extends keyword** indicates that you are making a new class that derives from an existing class. The meaning of \"extends\" is to increase the functionality.\n",
    "\n",
    "In the terminology of Java, a class which is inherited is called a parent or superclass, and the new class is called child or subclass."
   ]
  },
  {
   "cell_type": "markdown",
   "metadata": {},
   "source": [
    "**Example**"
   ]
  },
  {
   "cell_type": "code",
   "execution_count": 7,
   "metadata": {},
   "outputs": [],
   "source": [
    "class Employee{  \n",
    " float salary=40000;  \n",
    "}  \n",
    "class Programmer extends Employee{  \n",
    " int bonus=10000;  \n",
    " public static void main(String args[]){  \n",
    "   Programmer p=new Programmer();  \n",
    "   System.out.println(\"Programmer salary is:\"+p.salary);  \n",
    "   System.out.println(\"Bonus of Programmer is:\"+p.bonus);  \n",
    "}  \n",
    "}  "
   ]
  },
  {
   "cell_type": "code",
   "execution_count": 8,
   "metadata": {},
   "outputs": [
    {
     "name": "stdout",
     "output_type": "stream",
     "text": [
      "Programmer salary is:40000.0\n",
      "Bonus of Programmer is:10000\n"
     ]
    }
   ],
   "source": [
    "var p=new Programmer();\n",
    "p.main(null);"
   ]
  },
  {
   "cell_type": "markdown",
   "metadata": {},
   "source": [
    "In the above example, Programmer object can access the field of own class as well as of Employee class i.e. code reusability."
   ]
  },
  {
   "cell_type": "markdown",
   "metadata": {},
   "source": [
    "# Types of inheritance #"
   ]
  },
  {
   "cell_type": "markdown",
   "metadata": {},
   "source": [
    "On the basis of class, there can be three types of inheritance in java: single, multilevel and hierarchical.\n",
    "\n",
    "In java programming, multiple and hybrid inheritance is supported through interface only."
   ]
  },
  {
   "cell_type": "markdown",
   "metadata": {},
   "source": [
    "![](https://static.javatpoint.com/images/core/typesofinheritance.jpg)"
   ]
  },
  {
   "cell_type": "markdown",
   "metadata": {},
   "source": [
    "## Single Inheritance ##"
   ]
  },
  {
   "cell_type": "markdown",
   "metadata": {},
   "source": [
    "When a class inherits another class, it is known as a single inheritance. In the example given below, Dog class inherits the Animal class, so there is the single inheritance."
   ]
  },
  {
   "cell_type": "markdown",
   "metadata": {},
   "source": [
    "**Example**"
   ]
  },
  {
   "cell_type": "code",
   "execution_count": 11,
   "metadata": {},
   "outputs": [],
   "source": [
    "class Animal{  \n",
    "void eat(){System.out.println(\"eating...\");}  \n",
    "}  \n",
    "class Dog extends Animal{  \n",
    "void bark(){System.out.println(\"barking...\");}  \n",
    "}  \n",
    "class TestInheritance{  \n",
    "public static void main(String args[]){  \n",
    "Dog d=new Dog();  \n",
    "d.bark();  \n",
    "d.eat();  \n",
    "}}  "
   ]
  },
  {
   "cell_type": "code",
   "execution_count": 12,
   "metadata": {},
   "outputs": [
    {
     "name": "stdout",
     "output_type": "stream",
     "text": [
      "barking...\n",
      "eating...\n"
     ]
    }
   ],
   "source": [
    "var p=new TestInheritance();\n",
    "p.main(null);\n"
   ]
  },
  {
   "cell_type": "markdown",
   "metadata": {},
   "source": [
    "## Multilevel Inheritance ##"
   ]
  },
  {
   "cell_type": "markdown",
   "metadata": {},
   "source": [
    "When there is a chain of inheritance, it is known as multilevel inheritance. As you can see in the example given below, BabyDog class inherits the Dog class which again inherits the Animal class, so there is a multilevel inheritance."
   ]
  },
  {
   "cell_type": "markdown",
   "metadata": {},
   "source": [
    "**Example**"
   ]
  },
  {
   "cell_type": "code",
   "execution_count": 13,
   "metadata": {},
   "outputs": [],
   "source": [
    "class Animal{  \n",
    "void eat(){System.out.println(\"eating...\");}  \n",
    "}  \n",
    "class Dog extends Animal{  \n",
    "void bark(){System.out.println(\"barking...\");}  \n",
    "}  \n",
    "class BabyDog extends Dog{  \n",
    "void weep(){System.out.println(\"weeping...\");}  \n",
    "}  \n",
    "class TestInheritance2{  \n",
    "public static void main(String args[]){  \n",
    "BabyDog d=new BabyDog();  \n",
    "d.weep();  \n",
    "d.bark();  \n",
    "d.eat();  \n",
    "}}  "
   ]
  },
  {
   "cell_type": "code",
   "execution_count": 14,
   "metadata": {},
   "outputs": [
    {
     "name": "stdout",
     "output_type": "stream",
     "text": [
      "weeping...\n",
      "barking...\n",
      "eating...\n"
     ]
    }
   ],
   "source": [
    "var p=new TestInheritance2();\n",
    "p.main(null);\n"
   ]
  },
  {
   "cell_type": "markdown",
   "metadata": {},
   "source": [
    "## Hierarchical Inheritance ##"
   ]
  },
  {
   "cell_type": "markdown",
   "metadata": {},
   "source": [
    "When two or more classes inherits a single class, it is known as hierarchical inheritance. In the example given below, Dog and Cat classes inherits the Animal class, so there is hierarchical inheritance."
   ]
  },
  {
   "cell_type": "markdown",
   "metadata": {},
   "source": [
    "**Example**"
   ]
  },
  {
   "cell_type": "code",
   "execution_count": 15,
   "metadata": {},
   "outputs": [],
   "source": [
    "class Animal{  \n",
    "void eat(){System.out.println(\"eating...\");}  \n",
    "}  \n",
    "class Dog extends Animal{  \n",
    "void bark(){System.out.println(\"barking...\");}  \n",
    "}  \n",
    "class Cat extends Animal{  \n",
    "void meow(){System.out.println(\"meowing...\");}  \n",
    "}  \n",
    "class TestInheritance3{  \n",
    "public static void main(String args[]){  \n",
    "Cat c=new Cat();  \n",
    "c.meow();  \n",
    "c.eat();   \n",
    "}} "
   ]
  },
  {
   "cell_type": "code",
   "execution_count": 16,
   "metadata": {},
   "outputs": [
    {
     "name": "stdout",
     "output_type": "stream",
     "text": [
      "meowing...\n",
      "eating...\n"
     ]
    }
   ],
   "source": [
    "var p=new TestInheritance3();\n",
    "p.main(null);\n"
   ]
  },
  {
   "cell_type": "code",
   "execution_count": null,
   "metadata": {},
   "outputs": [],
   "source": []
  }
 ],
 "metadata": {
  "kernelspec": {
   "display_name": "Java",
   "language": "java",
   "name": "java"
  },
  "language_info": {
   "codemirror_mode": "java",
   "file_extension": ".jshell",
   "mimetype": "text/x-java-source",
   "name": "Java",
   "pygments_lexer": "java",
   "version": "15.0.1+9-18"
  }
 },
 "nbformat": 4,
 "nbformat_minor": 4
}
