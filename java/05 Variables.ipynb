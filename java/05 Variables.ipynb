{
 "cells": [
  {
   "cell_type": "markdown",
   "metadata": {},
   "source": [
    "![](https://gotocode.io/static/img/logo_collapsed.png)\n",
    "![](https://gotocode.io/static/img/logo.png)"
   ]
  },
  {
   "cell_type": "markdown",
   "metadata": {},
   "source": [
    "# Variables #"
   ]
  },
  {
   "cell_type": "markdown",
   "metadata": {},
   "source": [
    "A variable is a container which holds the value while the Java program is executed. A variable is assigned with a data type.\n",
    "\n",
    "Variable is a name of memory location. There are three types of variables in java: local, instance and static.\n",
    "\n",
    "There are two types of data types in Java: primitive and non-primitive."
   ]
  },
  {
   "cell_type": "markdown",
   "metadata": {},
   "source": [
    "**Variable** is name of reserved area allocated in memory. In other words, it is a name of memory location. It is a combination of \"vary + able\" that means its value can be changed."
   ]
  },
  {
   "cell_type": "raw",
   "metadata": {},
   "source": [
    "int data=50;//Here data is variable  "
   ]
  },
  {
   "cell_type": "markdown",
   "metadata": {},
   "source": [
    "## Types of Variables ##"
   ]
  },
  {
   "cell_type": "markdown",
   "metadata": {},
   "source": [
    "There are three types of variables in Java:\n",
    "\n",
    "- local variable\n",
    "- instance variable\n",
    "- static variable"
   ]
  },
  {
   "cell_type": "markdown",
   "metadata": {},
   "source": [
    "**1) Local Variable**\n",
    "\n",
    "A variable declared inside the body of the method is called local variable. You can use this variable only within that method and the other methods in the class aren't even aware that the variable exists.\n",
    "\n",
    "A local variable cannot be defined with \"static\" keyword.\n",
    "\n",
    "**2) Instance Variable**\n",
    "\n",
    "A variable declared inside the class but outside the body of the method, is called instance variable. It is not declared as static.\n",
    "\n",
    "It is called instance variable because its value is instance specific and is not shared among instances.\n",
    "\n",
    "**3) Static variable**\n",
    "\n",
    "A variable which is declared as static is called static variable. It cannot be local. You can create a single copy of static variable and share among all the instances of the class. Memory allocation for static variable happens only once when the class is loaded in the memory."
   ]
  },
  {
   "cell_type": "markdown",
   "metadata": {},
   "source": [
    "### Example to understand the types of variables in java ###"
   ]
  },
  {
   "cell_type": "raw",
   "metadata": {},
   "source": [
    "class A{  \n",
    "int data=50;//instance variable  \n",
    "static int m=100;//static variable  \n",
    "void method(){  \n",
    "int n=90;//local variable  \n",
    "}  \n",
    "}//end of class  "
   ]
  }
 ],
 "metadata": {
  "kernelspec": {
   "display_name": "Java",
   "language": "java",
   "name": "java"
  },
  "language_info": {
   "codemirror_mode": "java",
   "file_extension": ".jshell",
   "mimetype": "text/x-java-source",
   "name": "Java",
   "pygments_lexer": "java",
   "version": "15.0.2+7-27"
  }
 },
 "nbformat": 4,
 "nbformat_minor": 4
}
