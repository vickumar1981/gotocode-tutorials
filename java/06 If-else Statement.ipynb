{
 "cells": [
  {
   "cell_type": "markdown",
   "metadata": {},
   "source": [
    "![](https://gotocode.io/static/assets/img/logo.jpg)"
   ]
  },
  {
   "cell_type": "markdown",
   "metadata": {},
   "source": [
    "# If-else Statement #"
   ]
  },
  {
   "cell_type": "markdown",
   "metadata": {},
   "source": [
    "The Java if statement is used to test the condition. It checks boolean condition: true or false. There are various types of if statement in Java."
   ]
  },
  {
   "cell_type": "markdown",
   "metadata": {},
   "source": [
    "- if statement\n",
    "- if-else statement\n",
    "- if-else-if ladder\n",
    "- nested if statement"
   ]
  },
  {
   "cell_type": "markdown",
   "metadata": {},
   "source": [
    "## if Statement ##"
   ]
  },
  {
   "cell_type": "markdown",
   "metadata": {},
   "source": [
    "The Java if statement tests the condition. It executes the if block if condition is true."
   ]
  },
  {
   "cell_type": "markdown",
   "metadata": {},
   "source": [
    "**Syntax:**"
   ]
  },
  {
   "cell_type": "raw",
   "metadata": {},
   "source": [
    "if(condition){  \n",
    "//code to be executed  \n",
    "} "
   ]
  },
  {
   "cell_type": "markdown",
   "metadata": {},
   "source": [
    "**Example:**"
   ]
  },
  {
   "cell_type": "code",
   "execution_count": 1,
   "metadata": {},
   "outputs": [],
   "source": [
    "public class IfExample {  \n",
    "public static void main(String[] args) {  \n",
    "    //defining an 'age' variable  \n",
    "    int age=20;  \n",
    "    //checking the age  \n",
    "    if(age>18){  \n",
    "        System.out.print(\"Age is greater than 18\");  \n",
    "    }  \n",
    "}  \n",
    "}  "
   ]
  },
  {
   "cell_type": "code",
   "execution_count": 2,
   "metadata": {},
   "outputs": [
    {
     "name": "stdout",
     "output_type": "stream",
     "text": [
      "Age is greater than 18"
     ]
    }
   ],
   "source": [
    "var p=new IfExample();\n",
    "p.main(null);"
   ]
  },
  {
   "cell_type": "markdown",
   "metadata": {},
   "source": [
    "## if-else Statement ##"
   ]
  },
  {
   "cell_type": "markdown",
   "metadata": {},
   "source": [
    "The Java if-else statement also tests the condition. It executes the if block if condition is true otherwise else block is executed."
   ]
  },
  {
   "cell_type": "markdown",
   "metadata": {},
   "source": [
    "**Syntax:**"
   ]
  },
  {
   "cell_type": "raw",
   "metadata": {},
   "source": [
    "if(condition){  \n",
    "//code if condition is true  \n",
    "}else{  \n",
    "//code if condition is false  \n",
    "}  "
   ]
  },
  {
   "cell_type": "markdown",
   "metadata": {},
   "source": [
    "**Example:**"
   ]
  },
  {
   "cell_type": "code",
   "execution_count": 3,
   "metadata": {},
   "outputs": [],
   "source": [
    "public class IfElseExample {  \n",
    "public static void main(String[] args) {  \n",
    "    //defining a variable  \n",
    "    int number=13;  \n",
    "    //Check if the number is divisible by 2 or not  \n",
    "    if(number%2==0){  \n",
    "        System.out.println(\"even number\");  \n",
    "    }else{  \n",
    "        System.out.println(\"odd number\");  \n",
    "    }  \n",
    "}  \n",
    "}  "
   ]
  },
  {
   "cell_type": "code",
   "execution_count": 4,
   "metadata": {},
   "outputs": [
    {
     "name": "stdout",
     "output_type": "stream",
     "text": [
      "odd number\n"
     ]
    }
   ],
   "source": [
    "var p=new IfElseExample();\n",
    "p.main(null);"
   ]
  },
  {
   "cell_type": "markdown",
   "metadata": {},
   "source": [
    "## if-else-if ladder Statement ##"
   ]
  },
  {
   "cell_type": "markdown",
   "metadata": {},
   "source": [
    "The if-else-if ladder statement executes one condition from multiple statements."
   ]
  },
  {
   "cell_type": "markdown",
   "metadata": {},
   "source": [
    "**Syntax:**"
   ]
  },
  {
   "cell_type": "raw",
   "metadata": {},
   "source": [
    "if(condition1){  \n",
    "//code to be executed if condition1 is true  \n",
    "}else if(condition2){  \n",
    "//code to be executed if condition2 is true  \n",
    "}  \n",
    "else if(condition3){  \n",
    "//code to be executed if condition3 is true  \n",
    "}  \n",
    "...  \n",
    "else{  \n",
    "//code to be executed if all the conditions are false  \n",
    "}  "
   ]
  },
  {
   "cell_type": "markdown",
   "metadata": {},
   "source": [
    "**Example:**"
   ]
  },
  {
   "cell_type": "code",
   "execution_count": 5,
   "metadata": {},
   "outputs": [],
   "source": [
    "public class IfElseIfExample {  \n",
    "public static void main(String[] args) {  \n",
    "    int marks=65;  \n",
    "      \n",
    "    if(marks<50){  \n",
    "        System.out.println(\"fail\");  \n",
    "    }  \n",
    "    else if(marks>=50 && marks<60){  \n",
    "        System.out.println(\"D grade\");  \n",
    "    }  \n",
    "    else if(marks>=60 && marks<70){  \n",
    "        System.out.println(\"C grade\");  \n",
    "    }  \n",
    "    else if(marks>=70 && marks<80){  \n",
    "        System.out.println(\"B grade\");  \n",
    "    }  \n",
    "    else if(marks>=80 && marks<90){  \n",
    "        System.out.println(\"A grade\");  \n",
    "    }else if(marks>=90 && marks<100){  \n",
    "        System.out.println(\"A+ grade\");  \n",
    "    }else{  \n",
    "        System.out.println(\"Invalid!\");  \n",
    "    }  \n",
    "}  \n",
    "}  "
   ]
  },
  {
   "cell_type": "code",
   "execution_count": 6,
   "metadata": {},
   "outputs": [
    {
     "name": "stdout",
     "output_type": "stream",
     "text": [
      "C grade\n"
     ]
    }
   ],
   "source": [
    "var p=new  IfElseIfExample();\n",
    "p.main(null);"
   ]
  },
  {
   "cell_type": "markdown",
   "metadata": {},
   "source": [
    "## Nested if statement ##"
   ]
  },
  {
   "cell_type": "markdown",
   "metadata": {},
   "source": [
    "The nested if statement represents the if block within another if block. Here, the inner if block condition executes only when outer if block condition is true."
   ]
  },
  {
   "cell_type": "markdown",
   "metadata": {},
   "source": [
    "**Syntax:**"
   ]
  },
  {
   "cell_type": "raw",
   "metadata": {},
   "source": [
    "if(condition){    \n",
    "     //code to be executed    \n",
    "          if(condition){  \n",
    "             //code to be executed    \n",
    "    }    \n",
    "}  \n"
   ]
  },
  {
   "cell_type": "code",
   "execution_count": 7,
   "metadata": {},
   "outputs": [],
   "source": [
    "public class JavaNestedIfExample {    \n",
    "public static void main(String[] args) {    \n",
    "    //Creating two variables for age and weight  \n",
    "    int age=20;  \n",
    "    int weight=80;    \n",
    "    //applying condition on age and weight  \n",
    "    if(age>=18){    \n",
    "        if(weight>50){  \n",
    "            System.out.println(\"You are eligible to donate blood\");  \n",
    "        }    \n",
    "    }    \n",
    "}}  "
   ]
  },
  {
   "cell_type": "code",
   "execution_count": 8,
   "metadata": {},
   "outputs": [
    {
     "name": "stdout",
     "output_type": "stream",
     "text": [
      "You are eligible to donate blood\n"
     ]
    }
   ],
   "source": [
    "var p=new  JavaNestedIfExample();\n",
    "p.main(null);"
   ]
  }
 ],
 "metadata": {
  "kernelspec": {
   "display_name": "Java",
   "language": "java",
   "name": "java"
  },
  "language_info": {
   "codemirror_mode": "java",
   "file_extension": ".jshell",
   "mimetype": "text/x-java-source",
   "name": "Java",
   "pygments_lexer": "java",
   "version": "15.0.2+7-27"
  }
 },
 "nbformat": 4,
 "nbformat_minor": 4
}
