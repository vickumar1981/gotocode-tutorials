{
 "cells": [
  {
   "cell_type": "markdown",
   "metadata": {},
   "source": [
    "![](https://gotocode.io/static/assets/img/logo.jpg)"
   ]
  },
  {
   "cell_type": "markdown",
   "metadata": {},
   "source": [
    "# Abstraction #"
   ]
  },
  {
   "cell_type": "markdown",
   "metadata": {},
   "source": [
    "Abstraction is a process of hiding the implementation details and showing only functionality to the user."
   ]
  },
  {
   "cell_type": "markdown",
   "metadata": {},
   "source": [
    "## Abstract class  ##"
   ]
  },
  {
   "cell_type": "markdown",
   "metadata": {},
   "source": [
    "A class which is declared as abstract is known as an abstract class. It can have abstract and non-abstract methods. It needs to be extended and its method implemented. It cannot be instantiated."
   ]
  },
  {
   "cell_type": "markdown",
   "metadata": {},
   "source": [
    "There are two ways to achieve abstraction in java\n",
    "\n",
    "**1.** Abstract class (0 to 100%)\n",
    "\n",
    "**2.** Interface (100%)"
   ]
  },
  {
   "cell_type": "markdown",
   "metadata": {},
   "source": [
    "- An abstract class must be declared with an abstract keyword.\n",
    "- It can have abstract and non-abstract methods.\n",
    "- It cannot be instantiated.\n",
    "- It can have constructors and static methods also.\n",
    "- It can have final methods which will force the subclass not to change the body of the method."
   ]
  },
  {
   "cell_type": "markdown",
   "metadata": {},
   "source": [
    "**Syntax**"
   ]
  },
  {
   "cell_type": "raw",
   "metadata": {},
   "source": [
    "abstract class A{}  "
   ]
  },
  {
   "cell_type": "markdown",
   "metadata": {},
   "source": [
    "**Example**"
   ]
  },
  {
   "cell_type": "code",
   "execution_count": 3,
   "metadata": {},
   "outputs": [],
   "source": [
    "abstract class Bike{  \n",
    "  abstract void run();  \n",
    "}  \n",
    "class Honda4 extends Bike{  \n",
    "void run(){System.out.println(\"running safely\");}  \n",
    "public static void main(String args[]){  \n",
    " Bike obj = new Honda4();  \n",
    " obj.run();  \n",
    "}  \n",
    "}  "
   ]
  },
  {
   "cell_type": "code",
   "execution_count": 4,
   "metadata": {},
   "outputs": [
    {
     "name": "stdout",
     "output_type": "stream",
     "text": [
      "running safely\n"
     ]
    }
   ],
   "source": [
    "var p=new Honda4();\n",
    "p.main(null);\n"
   ]
  }
 ],
 "metadata": {
  "kernelspec": {
   "display_name": "Java",
   "language": "java",
   "name": "java"
  },
  "language_info": {
   "codemirror_mode": "java",
   "file_extension": ".jshell",
   "mimetype": "text/x-java-source",
   "name": "Java",
   "pygments_lexer": "java",
   "version": "15.0.1+9-18"
  }
 },
 "nbformat": 4,
 "nbformat_minor": 4
}
