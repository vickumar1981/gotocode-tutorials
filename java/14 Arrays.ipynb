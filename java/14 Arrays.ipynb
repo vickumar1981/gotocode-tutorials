{
 "cells": [
  {
   "cell_type": "markdown",
   "metadata": {},
   "source": [
    "# Arrays #"
   ]
  },
  {
   "cell_type": "markdown",
   "metadata": {},
   "source": [
    "An array is a collection of similar type of elements which has contiguous memory location."
   ]
  },
  {
   "cell_type": "markdown",
   "metadata": {},
   "source": [
    "Java array is an object which contains elements of a similar data type. Additionally, The elements of an array are stored in a contiguous memory location. It is a data structure where we store similar elements. We can store only a fixed set of elements in a Java array.\n",
    "\n",
    "Array in Java is index-based, the first element of the array is stored at the 0th index, 2nd element is stored on 1st index and so on."
   ]
  },
  {
   "cell_type": "markdown",
   "metadata": {},
   "source": [
    "Unlike C/C++, we can get the length of the array using the length member. In C/C++, we need to use the sizeof operator.\n",
    "\n",
    "In Java, array is an object of a dynamically generated class. Java array inherits the Object class, and implements the Serializable as well as Cloneable interfaces. We can store primitive values or objects in an array in Java. Like C/C++, we can also create single dimentional or multidimentional arrays in Java.\n",
    "\n",
    "Moreover, Java provides the feature of anonymous arrays which is not available in C/C++."
   ]
  },
  {
   "cell_type": "markdown",
   "metadata": {},
   "source": [
    "![](https://www.javatpoint.com/images/core/array.gif)"
   ]
  },
  {
   "cell_type": "markdown",
   "metadata": {},
   "source": [
    "## Advantages ##"
   ]
  },
  {
   "cell_type": "markdown",
   "metadata": {},
   "source": [
    "**Code Optimization:** It makes the code optimized, we can retrieve or sort the data efficiently.\n",
    "\n",
    "**Random access:** We can get any data located at an index position."
   ]
  },
  {
   "cell_type": "markdown",
   "metadata": {},
   "source": [
    "## Disadvantages ##"
   ]
  },
  {
   "cell_type": "markdown",
   "metadata": {},
   "source": [
    "**Size Limit:** We can store only the fixed size of elements in the array. It doesn't grow its size at runtime. To solve this problem, collection framework is used in Java which grows automatically."
   ]
  },
  {
   "cell_type": "markdown",
   "metadata": {},
   "source": [
    "# Types of Array in java #"
   ]
  },
  {
   "cell_type": "markdown",
   "metadata": {},
   "source": [
    "There are two types of array.\n",
    "\n",
    "- Single Dimensional Array\n",
    "- Multidimensional Array"
   ]
  },
  {
   "cell_type": "markdown",
   "metadata": {},
   "source": [
    "## Single Dimensional Array ##"
   ]
  },
  {
   "cell_type": "markdown",
   "metadata": {},
   "source": [
    "**Syntax**"
   ]
  },
  {
   "cell_type": "raw",
   "metadata": {},
   "source": [
    "dataType[] arr; (or)  \n",
    "dataType []arr; (or)  \n",
    "dataType arr[];  "
   ]
  },
  {
   "cell_type": "markdown",
   "metadata": {},
   "source": [
    "**Instantiation of an Array**"
   ]
  },
  {
   "cell_type": "raw",
   "metadata": {},
   "source": [
    "arrayRefVar=new datatype[size];  "
   ]
  },
  {
   "cell_type": "markdown",
   "metadata": {},
   "source": [
    "**Example**"
   ]
  },
  {
   "cell_type": "code",
   "execution_count": 5,
   "metadata": {},
   "outputs": [],
   "source": [
    "class Testarray{  \n",
    "public static void main(String args[]){  \n",
    "int a[]=new int[5];//declaration and instantiation  \n",
    "a[0]=10;//initialization  \n",
    "a[1]=20;  \n",
    "a[2]=70;  \n",
    "a[3]=40;  \n",
    "a[4]=50;  \n",
    "//traversing array  \n",
    "for(int i=0;i<a.length;i++)\n",
    "System.out.println(a[i]);  \n",
    "}}  "
   ]
  },
  {
   "cell_type": "code",
   "execution_count": 6,
   "metadata": {},
   "outputs": [
    {
     "name": "stdout",
     "output_type": "stream",
     "text": [
      "10\n",
      "20\n",
      "70\n",
      "40\n",
      "50\n"
     ]
    }
   ],
   "source": [
    "var p=new Testarray();\n",
    "p.main(null);\n"
   ]
  },
  {
   "cell_type": "markdown",
   "metadata": {},
   "source": [
    "## Multidimensional Array ##"
   ]
  },
  {
   "cell_type": "markdown",
   "metadata": {},
   "source": [
    "**Syntax**"
   ]
  },
  {
   "cell_type": "raw",
   "metadata": {},
   "source": [
    "dataType[][] arrayRefVar; (or)  \n",
    "dataType [][]arrayRefVar; (or)  \n",
    "dataType arrayRefVar[][]; (or)  \n",
    "dataType []arrayRefVar[];   "
   ]
  },
  {
   "cell_type": "markdown",
   "metadata": {},
   "source": [
    "**Example to instantiate Multidimensional Array**"
   ]
  },
  {
   "cell_type": "raw",
   "metadata": {},
   "source": [
    "int[][] arr=new int[3][3];//3 row and 3 column  "
   ]
  },
  {
   "cell_type": "markdown",
   "metadata": {},
   "source": [
    "**Example**"
   ]
  },
  {
   "cell_type": "code",
   "execution_count": 7,
   "metadata": {},
   "outputs": [],
   "source": [
    "class Testarray3{  \n",
    "public static void main(String args[]){  \n",
    "//declaring and initializing 2D array  \n",
    "int arr[][]={{1,2,3},{2,4,5},{4,4,5}};  \n",
    "//printing 2D array  \n",
    "for(int i=0;i<3;i++){  \n",
    " for(int j=0;j<3;j++){  \n",
    "   System.out.print(arr[i][j]+\" \");  \n",
    " }  \n",
    " System.out.println();  \n",
    "}  \n",
    "}}  "
   ]
  },
  {
   "cell_type": "code",
   "execution_count": 8,
   "metadata": {},
   "outputs": [
    {
     "name": "stdout",
     "output_type": "stream",
     "text": [
      "1 2 3 \n",
      "2 4 5 \n",
      "4 4 5 \n"
     ]
    }
   ],
   "source": [
    "var p=new Testarray3();\n",
    "p.main(null);"
   ]
  }
 ],
 "metadata": {
  "kernelspec": {
   "display_name": "Java",
   "language": "java",
   "name": "java"
  },
  "language_info": {
   "codemirror_mode": "java",
   "file_extension": ".jshell",
   "mimetype": "text/x-java-source",
   "name": "Java",
   "pygments_lexer": "java",
   "version": "15.0.1+9-18"
  }
 },
 "nbformat": 4,
 "nbformat_minor": 4
}
