{
 "cells": [
  {
   "cell_type": "markdown",
   "metadata": {},
   "source": [
    "![](https://gotocode.io/static/assets/img/logo.jpg)"
   ]
  },
  {
   "cell_type": "markdown",
   "metadata": {},
   "source": [
    "# Switch Statement #"
   ]
  },
  {
   "cell_type": "markdown",
   "metadata": {},
   "source": [
    "The Java switch statement executes one statement from multiple conditions. It is like if-else-if ladder statement. The switch statement works with byte, short, int, long, enum types, String and some wrapper types like Byte, Short, Int, and Long. Since Java 7, you can use strings in the switch statement.\n",
    "\n",
    "In other words, the switch statement tests the equality of a variable against multiple values."
   ]
  },
  {
   "cell_type": "markdown",
   "metadata": {},
   "source": [
    "**Points to Remember**"
   ]
  },
  {
   "cell_type": "markdown",
   "metadata": {},
   "source": [
    "- There can be one or N number of case values for a switch expression.\n",
    "- The case value must be of switch expression type only. The case value must be literal or constant. It doesn't allow variables.\n",
    "- The case values must be unique. In case of duplicate value, it renders compile-time error.\n",
    "- The Java switch expression must be of byte, short, int, long (with its Wrapper type), enums and string.\n",
    "- Each case statement can have a break statement which is optional. When control reaches to the break statement, it jumps the control after the switch expression. If a break statement is not found, it executes the next case.\n",
    "- The case value can have a default label which is optional."
   ]
  },
  {
   "cell_type": "markdown",
   "metadata": {},
   "source": [
    "**Syntax:**"
   ]
  },
  {
   "cell_type": "raw",
   "metadata": {},
   "source": [
    "switch(expression){    \n",
    "case value1:    \n",
    " //code to be executed;    \n",
    " break;  //optional  \n",
    "case value2:    \n",
    " //code to be executed;    \n",
    " break;  //optional  \n",
    "......    \n",
    "    \n",
    "default:     \n",
    " code to be executed if all cases are not matched;    \n",
    "} "
   ]
  },
  {
   "cell_type": "markdown",
   "metadata": {},
   "source": [
    "**Example:**"
   ]
  },
  {
   "cell_type": "code",
   "execution_count": 1,
   "metadata": {},
   "outputs": [],
   "source": [
    "public class SwitchExample {  \n",
    "public static void main(String[] args) {  \n",
    "    //Declaring a variable for switch expression  \n",
    "    int number=20;  \n",
    "    //Switch expression  \n",
    "    switch(number){  \n",
    "    //Case statements  \n",
    "    case 10: System.out.println(\"10\");  \n",
    "    break;  \n",
    "    case 20: System.out.println(\"20\");  \n",
    "    break;  \n",
    "    case 30: System.out.println(\"30\");  \n",
    "    break;  \n",
    "    //Default case statement  \n",
    "    default:System.out.println(\"Not in 10, 20 or 30\");  \n",
    "    }  \n",
    "}  \n",
    "}  "
   ]
  },
  {
   "cell_type": "code",
   "execution_count": 2,
   "metadata": {},
   "outputs": [
    {
     "name": "stdout",
     "output_type": "stream",
     "text": [
      "20\n"
     ]
    }
   ],
   "source": [
    "var p=new SwitchExample();\n",
    "p.main(null);"
   ]
  }
 ],
 "metadata": {
  "kernelspec": {
   "display_name": "Java",
   "language": "java",
   "name": "java"
  },
  "language_info": {
   "codemirror_mode": "java",
   "file_extension": ".jshell",
   "mimetype": "text/x-java-source",
   "name": "Java",
   "pygments_lexer": "java",
   "version": "15.0.2+7-27"
  }
 },
 "nbformat": 4,
 "nbformat_minor": 4
}
